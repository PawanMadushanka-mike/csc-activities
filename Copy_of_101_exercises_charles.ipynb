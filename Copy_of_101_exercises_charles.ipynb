{
  "cells": [
    {
      "cell_type": "markdown",
      "metadata": {
        "id": "view-in-github",
        "colab_type": "text"
      },
      "source": [
        "<a href=\"https://colab.research.google.com/github/PawanMadushanka-mike/csc-activities/blob/main/Copy_of_101_exercises_charles.ipynb\" target=\"_parent\"><img src=\"https://colab.research.google.com/assets/colab-badge.svg\" alt=\"Open In Colab\"/></a>"
      ]
    },
    {
      "cell_type": "markdown",
      "metadata": {
        "id": "16k0q2IWnhmr"
      },
      "source": [
        "# Welcome to 101 Exercises for Python Fundamentals\n",
        "\n",
        "Solving these exercises will help make you a better programmer. Solve them in order, because each solution builds scaffolding, working code, and knowledge you can use on future problems. Read the directions carefully, and have fun!\n",
        "\n",
        "> \"Learning to program takes a little bit of study and a *lot* of practice\" - Luis Montealegre"
      ]
    },
    {
      "cell_type": "markdown",
      "metadata": {
        "id": "r4hF8UI0nhmr"
      },
      "source": [
        "## Getting Started\n",
        "1. Go to https://colab.research.google.com/github/ryanorsinger/101-exercises/blob/main/101-exercises.ipynb\n",
        "2. To save your work to your Google Drive, go to File then \"Save Copy in Drive\".\n",
        "3. Your own work will now appear in your Google Drive account!\n",
        "\n",
        "If you need a fresh, blank copy of this document, go to https://colab.research.google.com/github/ryanorsinger/101-exercises/blob/main/101-exercises.ipynb and save a fresh copy in your Google Drive."
      ]
    },
    {
      "cell_type": "markdown",
      "metadata": {
        "id": "yBZrOEGhnhms"
      },
      "source": [
        "## Orientation\n",
        "- This code notebook is composed of cells. Each cell is either text or Python code.\n",
        "- To run a cell of code, click the \"play button\" icon to the left of the cell or click on the cell and press \"Shift+Enter\" on your keyboard. This will execute the Python code contained in the cell. Executing a cell that defines a variable is important before executing or authoring a cell that depends on that previously created variable assignment.\n",
        "- Each *assert* line is both an example and a test that tests for the presence and functionality of the instructed exercise.\n",
        "\n",
        "\n",
        "## Outline\n",
        "- Each cell starts with a problem statement that describes the exercise to complete.\n",
        "- Underneath each problem statement, learners will need to write code to produce an answer.\n",
        "- The **assert** lines test to see that your code solves the problem appropriately.\n",
        "- Do not alter or delete the assertion tests, since those are providing automated testing.\n",
        "- Many exercises will rely on previous solutions to be correctly completed\n",
        "- The `print(\"Exercise is complete\")` line will only run if your solution passes the assertion test(s)\n",
        "- Be sure to create programmatic solutions that will work for all inputs:\n",
        "- For example, calling the `is_even(2)` returns `True`, but your function should work for all even numbers, both positive and negative.\n",
        "\n",
        "\n",
        "## Guidance\n",
        "- Get Python to do the work for you. For example, if the exercise instructs you to reverse a list of numbers, your job is to find the\n",
        "- Save often by clicking the blue \"Save\" button.\n",
        "- If you need to clear the output or reset the notebook, go to \"Run\" then \"Restart Session\" to clear up any error messages.\n",
        "- Do not move or alter the lines of code that contain the `assert` statements. Those are what run your solution and test its actual output vs. expected outputs.\n",
        "- Seek to understand the problem before trying to solve it. Can you explain the problem to someone else in English? Can you explain the solution in English?\n",
        "- Slow down and read any error messages you encounter. Error messages provide insight into how to resolve the error. When in doubt, put your exact error into a search engine and look for results that reference an identical or similar problem.\n",
        "\n",
        "## Get Python To Do The Work For You\n",
        "One of the main jobs of a programming language is to help people solve problems programatically, so we don't have to do so much by hand. For example, it's easy for a person to manually reverse the list `[1, 2, 3]`, but imagine reversing a list of a million things or sorting a list of even a hundred things. When we write programmatic solutions in code, we are providing instructions to the computer to do a task. Computers follow the letter of the code, not the intent, and do exactly what they are told to do. In this way, Python can reverse a list of 3 numbers or 100 numbers or ten million numbers with the same instructions. Repetition is a key idea behind programming languages.\n",
        "\n",
        "This means that your task with these exercises is to determine a sequence of steps that solve the problem and then find the Python code that will run those instructions. If you're sorting or reversing things by hand, you're not doing it right!\n",
        "\n",
        "## How To Discover How To Do Something in Python\n",
        "1. The first step is to make sure you know what the problem is asking.\n",
        "2. The second step is to determine, in English (or your first spoken language), what steps you need to take.\n",
        "3. Use a search engine to look for code examples to identical or similar problems.\n",
        "\n",
        "One of the best ways to discover how to do things in Python is to use a search engine. Go to your favorite search engine and search for \"how to reverse a list in Python\" or \"how to sort a list in Python\". That's how both learners and professionals find answers and examples all the time. Search for what you want and add \"in Python\" and you'll get lots of code examples. Searching for \"How to sum a list of numbers in Python\" is a very effective way to discover exactly how to do that task."
      ]
    },
    {
      "cell_type": "markdown",
      "metadata": {
        "id": "cqH7yKHunhms"
      },
      "source": [
        "### Learning to Program and Code\n",
        "- You can make a new blank cell for Python code at any time in this document.\n",
        "- If you want more freedom to explore learning Python in a blank notebook, go here https://colab.research.google.com/#create=true and make yourself a blank, new notebook.\n",
        "- Programming is an intellectual activity of designing a solution. \"Coding\" means turning your programmatic solution into code w/ all the right syntax and parts of the programming language.\n",
        "- Expect to make mistakes and adopt the attitude that **the error message provides the information you need to proceed**. You will put lots of error messages into search engines to learn this craft!\n",
        "- Because computers have zero ability to read in between the lines or \"catch the drift\" or know what you mean, code only does what it is told to do.\n",
        "- Code doesn't do what you *want* it to do, code does what you've told it to do.\n",
        "- Before writing any code, figure out how you would solve the problem in spoken language to describe the sequence of steps in the solution.\n",
        "- Think about your solution in English (or your natural language). It's **critical** to solve the problem in your natural language before trying to get a programming language to do the work."
      ]
    },
    {
      "cell_type": "markdown",
      "metadata": {
        "id": "mhG216jCnhms"
      },
      "source": [
        "## Troubleshooting\n",
        "- If this entire document shows \"Name Error\" for many cells, it means you should read the \"Getting Started\" instructions above to make your own copy.\n",
        "- Be sure to commit your work to make save points, as you go.\n",
        "- If you load this page and you see your code but not the results of the code, be sure to run each cell (shift + Enter makes this quick)\n",
        "- \"Name Error\" means that you need to assign a variable or define the function as instructed.\n",
        "- \"Assertion Error\" means that your provided solution does not match the correct answer.\n",
        "- \"Type Error\" means that your data type provided is not accurate\n",
        "- If your kernel freezes, click on \"Run\" then select \"Restart Session\"\n",
        "- If you require additional troubleshooting assistance, click on \"Help\" and then \"Docs\" to access documentation for this platform.\n",
        "- If you have discoverd a bug or typo, please triple check your spelling then create a new issue at [https://github.com/ryanorsinger/101-exercises/issues](https://github.com/ryanorsinger/101-exercises/issues) to notify the author.\n",
        "\n",
        "## What to do when you don't know what to do next\n",
        "- When the exercise asks you to reverse an list, the way forward is to search for \"How to reverse a list in Python\" in your favorite search engine.\n",
        "- When the exercise asks you to check if a number is even, the way forward is to search for \"how to check if a number is even in Python\".\n",
        "- When the exercise has you calculate the area of a circle, the way forward is to search for \"how to calculate the area of a circle in Python\" or \"How to get pi in Python\".\n",
        "\n",
        "> The pattern for finding what you need in JavaScript is to rely very heavily on search engine searches so you can find examples of working code and discussions about code that speak to your questions."
      ]
    },
    {
      "cell_type": "code",
      "execution_count": null,
      "metadata": {
        "_cell_guid": "79c7e3d0-c299-4dcb-8224-4455121ee9b0",
        "_uuid": "d629ff2d2480ee46fbb7e2d37f6b5fab8052498a",
        "id": "oMR6P43mnhms"
      },
      "outputs": [],
      "source": [
        "# Example problem:\n",
        "# Uncomment the line below and run this cell.\n",
        "# The hashtag \"#\" character in a line of Python code is the comment character.\n",
        "# doing_python_right_now = True\n",
        "\n",
        "# The lines below will test your answer. If you see an error, then it means that your answer is incorrect or incomplete.\n",
        "assert doing_python_right_now == True, \"If you see a NameError, it means that the variable is not created and assigned a value. An 'Assertion Error' means that the value of the variable is incorrect.\"\n",
        "print(\"Exercise 0 is correct\") # This line will print if your solution passes the assertion above."
      ]
    },
    {
      "cell_type": "code",
      "execution_count": null,
      "metadata": {
        "id": "kCszoz6fnhmt",
        "colab": {
          "base_uri": "https://localhost:8080/"
        },
        "outputId": "f77685f6-0a63-48f7-eb7d-9a10dd291a22"
      },
      "outputs": [
        {
          "output_type": "stream",
          "name": "stdout",
          "text": [
            "Exercise 1 is correct.\n"
          ]
        }
      ],
      "source": [
        "# Exercise 1\n",
        "# On the line below, create a variable named on_mars_right_now and assign it the boolean value of False\n",
        "on_mars_right_now = False\n",
        "assert on_mars_right_now == False, \"If you see a Name Error, be sure to create the variable and assign it a value.\"\n",
        "print(\"Exercise 1 is correct.\")"
      ]
    },
    {
      "cell_type": "code",
      "execution_count": null,
      "metadata": {
        "id": "GtCj6v3qnhmt",
        "colab": {
          "base_uri": "https://localhost:8080/"
        },
        "outputId": "4c5e87dc-5a4a-4fc3-c8ce-606efbd41c4f"
      },
      "outputs": [
        {
          "output_type": "stream",
          "name": "stdout",
          "text": [
            "Exercise 2 is correct.\n"
          ]
        }
      ],
      "source": [
        "# Exercise 2\n",
        "# Create a variable named fruits and assign it a list of fruits containing the following fruit names as strings:\n",
        "# mango, banana, guava, kiwi, and strawberry.\n",
        "fruits = [\"mango\", \"banana\", \"guava\", \"kiwi\", \"strawberry\"]\n",
        "assert fruits == [\"mango\", \"banana\", \"guava\", \"kiwi\", \"strawberry\"], \"If you see an Assert Error, ensure the variable contains all the strings in the provided order\"\n",
        "print(\"Exercise 2 is correct.\")"
      ]
    },
    {
      "cell_type": "code",
      "execution_count": null,
      "metadata": {
        "id": "-Y069MLlnhmt",
        "colab": {
          "base_uri": "https://localhost:8080/"
        },
        "outputId": "f7062f90-83f6-4dc8-d09a-302331fe0d2f"
      },
      "outputs": [
        {
          "output_type": "stream",
          "name": "stdout",
          "text": [
            "Exercise 3 is correct.\n"
          ]
        }
      ],
      "source": [
        "# Exercise 3\n",
        "# Create a variable named vegetables and assign it a list of fruits containing the following vegetable names as strings:\n",
        "# eggplant, broccoli, carrot, cauliflower, and zucchini\n",
        "vegetables=[\"eggplant\", \"broccoli\", \"carrot\", \"cauliflower\", \"zucchini\"]\n",
        "assert vegetables == [\"eggplant\", \"broccoli\", \"carrot\", \"cauliflower\", \"zucchini\"], \"Ensure the variable contains all the strings in the provided order\"\n",
        "print(\"Exercise 3 is correct.\")"
      ]
    },
    {
      "cell_type": "code",
      "execution_count": null,
      "metadata": {
        "id": "-Hg1yVoynhmt",
        "colab": {
          "base_uri": "https://localhost:8080/"
        },
        "outputId": "f5a881c1-4846-4f2e-8a98-89d1d1f7b7e9"
      },
      "outputs": [
        {
          "output_type": "stream",
          "name": "stdout",
          "text": [
            "Exercise 4 is correct.\n"
          ]
        }
      ],
      "source": [
        "# Exercise 4\n",
        "# Create a variable named numbers and assign it a list of numbers, 1, 2, 3, 4, 5, 6, 7, 8, 9, 10\n",
        "numbers=[1, 2, 3, 4, 5, 6, 7, 8, 9, 10]\n",
        "assert numbers == [1, 2, 3, 4, 5, 6, 7, 8, 9, 10], \"Ensure the variable contains the numbers 1-10 in order.\"\n",
        "print(\"Exercise 4 is correct.\")"
      ]
    },
    {
      "cell_type": "markdown",
      "metadata": {
        "id": "aj1Aew6Xnhmt"
      },
      "source": [
        "## List Operations\n",
        "**Hint** Recommend finding and using built-in Python functionality whenever possible."
      ]
    },
    {
      "cell_type": "code",
      "execution_count": null,
      "metadata": {
        "id": "f8CXfIHDnhmu",
        "colab": {
          "base_uri": "https://localhost:8080/"
        },
        "outputId": "63374f33-953f-4d54-9623-596e5047da92"
      },
      "outputs": [
        {
          "output_type": "stream",
          "name": "stdout",
          "text": [
            "Exercise 5 is correct\n"
          ]
        }
      ],
      "source": [
        "# Exercise 5\n",
        "# Given the following assigment of the list of fruits, add \"tomato\" to the end of the list.\n",
        "fruits = [\"mango\", \"banana\", \"guava\", \"kiwi\", \"strawberry\",\"tomato\"]\n",
        "\n",
        "assert fruits == [\"mango\", \"banana\", \"guava\", \"kiwi\", \"strawberry\", \"tomato\"], \"Ensure the variable contains all the strings in the right order\"\n",
        "print(\"Exercise 5 is correct\")"
      ]
    },
    {
      "cell_type": "code",
      "execution_count": null,
      "metadata": {
        "id": "W5dwz61jnhmu",
        "colab": {
          "base_uri": "https://localhost:8080/"
        },
        "outputId": "96ee45e9-e0d4-47c0-9999-1b4ee9bf7968"
      },
      "outputs": [
        {
          "output_type": "stream",
          "name": "stdout",
          "text": [
            "Exercise 6 is correct\n"
          ]
        }
      ],
      "source": [
        "# Exercise 6\n",
        "# Given the following assignment of the vegetables list, add \"tomato\" to the end of the list.\n",
        "vegetables = [\"eggplant\", \"broccoli\", \"carrot\", \"cauliflower\", \"zucchini\",\"tomato\"]\n",
        "\n",
        "\n",
        "assert vegetables == [\"eggplant\", \"broccoli\", \"carrot\", \"cauliflower\", \"zucchini\", \"tomato\"], \"Ensure the variable contains all the strings in the provided order\"\n",
        "print(\"Exercise 6 is correct\")"
      ]
    },
    {
      "cell_type": "code",
      "execution_count": null,
      "metadata": {
        "id": "fmQTOjfWnhmu",
        "colab": {
          "base_uri": "https://localhost:8080/"
        },
        "outputId": "be2005bd-2b7c-4bf6-dfc5-5bf06b2b2ce3"
      },
      "outputs": [
        {
          "output_type": "stream",
          "name": "stdout",
          "text": [
            "Exercise 7 is correct.\n"
          ]
        }
      ],
      "source": [
        "# Exercise 7\n",
        "# Given the list of numbers defined below, reverse the list of numbers that you created above.\n",
        "numbers = [1, 2, 3, 4, 5, 6, 7, 8, 9, 10]\n",
        "numbers.reverse()\n",
        "\n",
        "\n",
        "assert numbers == [10, 9, 8, 7, 6, 5, 4, 3, 2, 1], \"Assert Error means that the answer is incorrect.\"\n",
        "print(\"Exercise 7 is correct.\")"
      ]
    },
    {
      "cell_type": "code",
      "execution_count": null,
      "metadata": {
        "id": "SikA6bz_nhmu",
        "colab": {
          "base_uri": "https://localhost:8080/"
        },
        "outputId": "2a06970c-6014-4112-c277-dbf4444012c9"
      },
      "outputs": [
        {
          "output_type": "stream",
          "name": "stdout",
          "text": [
            "Exercise 8 is correct.\n"
          ]
        }
      ],
      "source": [
        "# Exercise 8\n",
        "# Sort the vegetables in alphabetical order\n",
        "vegetables.sort()\n",
        "\n",
        "assert vegetables == ['broccoli', 'carrot', 'cauliflower', 'eggplant', 'tomato', 'zucchini']\n",
        "print(\"Exercise 8 is correct.\")"
      ]
    },
    {
      "cell_type": "code",
      "execution_count": null,
      "metadata": {
        "id": "8q2ZQ0ZNnhmu",
        "colab": {
          "base_uri": "https://localhost:8080/"
        },
        "outputId": "968e0222-bc91-4ee0-b16e-acdb253699d0"
      },
      "outputs": [
        {
          "output_type": "stream",
          "name": "stdout",
          "text": [
            "Exercise 9 is correct.\n"
          ]
        }
      ],
      "source": [
        "# Exercise 9\n",
        "# Write the code necessary to sort the fruits in reverse alphabetical order\n",
        "fruits.sort()\n",
        "fruits.reverse()\n",
        "\n",
        "assert fruits == ['tomato', 'strawberry', 'mango', 'kiwi', 'guava', 'banana']\n",
        "print(\"Exercise 9 is correct.\")"
      ]
    },
    {
      "cell_type": "code",
      "execution_count": null,
      "metadata": {
        "id": "O9hPT0Jknhmu",
        "colab": {
          "base_uri": "https://localhost:8080/"
        },
        "outputId": "efeded8c-ef4a-4aa9-9a1c-023eeeb5ce14"
      },
      "outputs": [
        {
          "output_type": "stream",
          "name": "stdout",
          "text": [
            "Exercise 10 is correct\n"
          ]
        }
      ],
      "source": [
        "# Exercise 10\n",
        "# Write the code necessary to produce a single list that holds all fruits then all vegetables in the order as they were sorted above.\n",
        "fruits_and_veggies = fruits + vegetables\n",
        "\n",
        "assert fruits_and_veggies == ['tomato', 'strawberry', 'mango', 'kiwi', 'guava', 'banana', 'broccoli', 'carrot', 'cauliflower', 'eggplant', 'tomato', 'zucchini']\n",
        "print(\"Exercise 10 is correct\")"
      ]
    },
    {
      "cell_type": "markdown",
      "metadata": {
        "id": "bsFcx5qenhmu"
      },
      "source": [
        "## Basic Functions\n",
        "![](http://)**Hint** Be sure to `return` values from your function definitions. The assert statements will call your function(s) for you."
      ]
    },
    {
      "cell_type": "code",
      "execution_count": null,
      "metadata": {
        "id": "Piglb93Rnhmu",
        "colab": {
          "base_uri": "https://localhost:8080/"
        },
        "outputId": "d1b87cd6-4adb-4e2f-9fb0-9a3eefbc1a7a"
      },
      "outputs": [
        {
          "output_type": "stream",
          "name": "stdout",
          "text": [
            "We now have some random numbers available for future exercises.\n",
            "The random positive even number is 66\n",
            "The random positive odd nubmer is 47\n",
            "The random negative even number -54\n",
            "The random negative odd number -81\n"
          ]
        }
      ],
      "source": [
        "# Run this cell in order to generate some numbers to use in our functions after this.\n",
        "import random\n",
        "\n",
        "positive_even_number = random.randrange(2, 101, 2)\n",
        "negative_even_number = random.randrange(-100, -1, 2)\n",
        "\n",
        "positive_odd_number = random.randrange(1, 100, 2)\n",
        "negative_odd_number = random.randrange(-101, 0, 2)\n",
        "print(\"We now have some random numbers available for future exercises.\")\n",
        "print(\"The random positive even number is\", positive_even_number)\n",
        "print(\"The random positive odd nubmer is\", positive_odd_number)\n",
        "print(\"The random negative even number\", negative_even_number)\n",
        "print(\"The random negative odd number\", negative_odd_number)\n"
      ]
    },
    {
      "cell_type": "code",
      "execution_count": null,
      "metadata": {
        "id": "1M94NAIqnhmu",
        "colab": {
          "base_uri": "https://localhost:8080/"
        },
        "outputId": "b0c90bf3-d249-4954-edf0-015fe195e144"
      },
      "outputs": [
        {
          "output_type": "stream",
          "name": "stdout",
          "text": [
            "The example function definition ran appropriately\n"
          ]
        }
      ],
      "source": [
        "# Example function defintion:\n",
        "# Write a say_hello function that adds the string \"Hello, \" to the beginning and \"!\" to the end of any given input.\n",
        "def say_hello(name):\n",
        "    return \"Hello, \" + name + \"!\"\n",
        "say_hello(\"Jane\")\n",
        "say_hello(\"Pat\")\n",
        "say_hello(\"Astrud\")\n",
        "\n",
        "assert say_hello(\"Jane\") == \"Hello, Jane!\", \"Double check the inputs and data types\"\n",
        "assert say_hello(\"Pat\") == \"Hello, Pat!\", \"Double check the inputs and data types\"\n",
        "assert say_hello(\"Astrud\") == \"Hello, Astrud!\", \"Double check the inputs and data types\"\n",
        "print(\"The example function definition ran appropriately\")"
      ]
    },
    {
      "cell_type": "code",
      "execution_count": null,
      "metadata": {
        "id": "_7P7MYz_nhmu",
        "colab": {
          "base_uri": "https://localhost:8080/"
        },
        "outputId": "67e2a6c7-774d-4129-a000-fb1b01b19404"
      },
      "outputs": [
        {
          "output_type": "stream",
          "name": "stdout",
          "text": [
            "The plus_two assertions executed appropriately... The second function definition example executed appropriately.\n"
          ]
        }
      ],
      "source": [
        "# Another example function definition:\n",
        "# This plus_two function takes in a variable and adds 2 to it.\n",
        "def plus_two(number):\n",
        "    return number + 2\n",
        "plus_two(3)\n",
        "plus_two(0)\n",
        "plus_two(-2)\n",
        "\n",
        "assert plus_two(3) == 5\n",
        "assert plus_two(0) == 2\n",
        "assert plus_two(-2) == 0\n",
        "print(\"The plus_two assertions executed appropriately... The second function definition example executed appropriately.\")"
      ]
    },
    {
      "cell_type": "code",
      "execution_count": null,
      "metadata": {
        "id": "I9udZm3wnhmu",
        "colab": {
          "base_uri": "https://localhost:8080/"
        },
        "outputId": "53214a81-9b32-4d4e-8c9a-468fc402eb10"
      },
      "outputs": [
        {
          "output_type": "stream",
          "name": "stdout",
          "text": [
            "Exercise 11 is correct.\n"
          ]
        }
      ],
      "source": [
        "# Exercise 11\n",
        "# Write a function definition for a function named add_one that takes in a number and returns that number plus one.\n",
        "def add_one(number):\n",
        "    return number + 1\n",
        "\n",
        "assert add_one(2) == 3, \"Ensure that the function is defined, named properly, and returns the correct value\"\n",
        "assert add_one(0) == 1, \"Zero plus one is one.\"\n",
        "assert add_one(positive_even_number) == positive_even_number + 1, \"Ensure that the function is defined, named properly, and returns the correct value\"\n",
        "assert add_one(negative_odd_number) == negative_odd_number + 1, \"Ensure that the function is defined, named properly, and returns the correct value\"\n",
        "print(\"Exercise 11 is correct.\")"
      ]
    },
    {
      "cell_type": "code",
      "execution_count": null,
      "metadata": {
        "id": "u8opRyjInhmu",
        "colab": {
          "base_uri": "https://localhost:8080/"
        },
        "outputId": "8ddb41af-0f28-43fb-a2a8-06d9c6a23d5e"
      },
      "outputs": [
        {
          "output_type": "stream",
          "name": "stdout",
          "text": [
            "Exercise 12 is correct.\n"
          ]
        }
      ],
      "source": [
        "# Exercise 12\n",
        "# Write a function definition named is_positive that takes in a number and returns True or False if that number is positive.\n",
        "def is_positive(number):\n",
        "    if number > 0:\n",
        "        return True\n",
        "    else :\n",
        "        return False\n",
        "is_positive(7)\n",
        "is_positive(4)\n",
        "is_positive(-3)\n",
        "is_positive(-4)\n",
        "is_positive(0)\n",
        "\n",
        "assert is_positive(positive_odd_number) == True, \"Ensure that the function is defined, named properly, and returns the correct value\"\n",
        "assert is_positive(positive_even_number) == True, \"Ensure that the function is defined, named properly, and returns the correct value\"\n",
        "assert is_positive(negative_odd_number) == False, \"Ensure that the function is defined, named properly, and returns the correct value\"\n",
        "assert is_positive(negative_even_number) == False, \"Ensure that the function is defined, named properly, and returns the correct value\"\n",
        "assert is_positive(0) == False, \"Zero is not a positive number.\"\n",
        "print(\"Exercise 12 is correct.\")"
      ]
    },
    {
      "cell_type": "code",
      "execution_count": null,
      "metadata": {
        "id": "AWZJiAzmnhmu",
        "colab": {
          "base_uri": "https://localhost:8080/"
        },
        "outputId": "01b9593f-945a-45f6-d55c-8f50e4a9a4de"
      },
      "outputs": [
        {
          "output_type": "stream",
          "name": "stdout",
          "text": [
            "Exercise 13 is correct.\n"
          ]
        }
      ],
      "source": [
        "# Exercise 13\n",
        "# Write a function definition named is_negative that takes in a number and returns True or False if that number is negative.\n",
        "def  is_negative(number):\n",
        "    if number<0:\n",
        "      return True\n",
        "    else:\n",
        "        return False\n",
        "\n",
        "is_negative(3)\n",
        "is_negative(4)\n",
        "is_negative(-3)\n",
        "is_negative(-4)\n",
        "is_negative(0)\n",
        "\n",
        "\n",
        "\n",
        "assert is_negative(positive_odd_number) == False, \"Ensure that the function is defined, named properly, and returns the correct value\"\n",
        "assert is_negative(positive_even_number) == False, \"Ensure that the function is defined, named properly, and returns the correct value\"\n",
        "assert is_negative(negative_odd_number) == True, \"Ensure that the function is defined, named properly, and returns the correct value\"\n",
        "assert is_negative(negative_even_number) == True, \"Ensure that the function is defined, named properly, and returns the correct value\"\n",
        "assert is_negative(0) == False, \"Zero is not a negative number.\"\n",
        "print(\"Exercise 13 is correct.\")"
      ]
    },
    {
      "cell_type": "code",
      "execution_count": null,
      "metadata": {
        "id": "DrMYX_y5nhmv",
        "colab": {
          "base_uri": "https://localhost:8080/"
        },
        "outputId": "73880841-61fe-4eb6-efd5-5277df3b45b3"
      },
      "outputs": [
        {
          "output_type": "stream",
          "name": "stdout",
          "text": [
            "Exercise 14 is correct.\n"
          ]
        }
      ],
      "source": [
        "# Exercise 14\n",
        "# Write a function definition named is_odd that takes in a number and returns True or False if that number is odd.\n",
        "def is_odd(number):\n",
        "    if number % 2 == 1:\n",
        "        return True\n",
        "    else:\n",
        "        return False\n",
        "is_odd(3)\n",
        "is_odd(4)\n",
        "is_odd(-3)\n",
        "is_odd(-4)\n",
        "assert is_odd(positive_odd_number) == True, \"Ensure that the function is defined, named properly, and returns the correct value\"\n",
        "assert is_odd(positive_even_number) == False, \"Ensure that the function is defined, named properly, and returns the correct value\"\n",
        "assert is_odd(negative_odd_number) == True, \"Ensure that the function is defined, named properly, and returns the correct value\"\n",
        "assert is_odd(negative_even_number) == False, \"Ensure that the function is defined, named properly, and returns the correct value\"\n",
        "print(\"Exercise 14 is correct.\")"
      ]
    },
    {
      "cell_type": "code",
      "execution_count": null,
      "metadata": {
        "id": "8lOtEDV0nhmv",
        "colab": {
          "base_uri": "https://localhost:8080/"
        },
        "outputId": "28b4dffb-4181-4e5c-e7ac-ba23325dee34"
      },
      "outputs": [
        {
          "output_type": "stream",
          "name": "stdout",
          "text": [
            "Exercise 15 is correct.\n"
          ]
        }
      ],
      "source": [
        "# Exercise 15\n",
        "# Write a function definition named is_even that takes in a number and returns True or False if that number is even.\n",
        "def is_even(number):\n",
        "  if number%2==0:\n",
        "    return True\n",
        "  else:\n",
        "    return False\n",
        "\n",
        "is_even(2)\n",
        "is_even(3)\n",
        "is_even(4)\n",
        "is_even(-17)\n",
        "is_even(-80)\n",
        "\n",
        "\n",
        "assert is_even(2) == True, \"Ensure that the function is defined, named properly, and returns the correct value\"\n",
        "assert is_even(positive_odd_number) == False, \"Ensure that the function is defined, named properly, and returns the correct value\"\n",
        "assert is_even(positive_even_number) == True, \"Ensure that the function is defined, named properly, and returns the correct value\"\n",
        "assert is_even(negative_odd_number) == False, \"Ensure that the function is defined, named properly, and returns the correct value\"\n",
        "assert is_even(negative_even_number) == True, \"Ensure that the function is defined, named properly, and returns the correct value\"\n",
        "print(\"Exercise 15 is correct.\")"
      ]
    },
    {
      "cell_type": "code",
      "execution_count": null,
      "metadata": {
        "id": "0SWLkiEpnhmv",
        "colab": {
          "base_uri": "https://localhost:8080/"
        },
        "outputId": "6b1d27e0-aebd-4e27-efde-272eef35ba34"
      },
      "outputs": [
        {
          "output_type": "stream",
          "name": "stdout",
          "text": [
            "Exercise 16 is correct.\n"
          ]
        }
      ],
      "source": [
        "# Exercise 16\n",
        "# Write a function definition named identity that takes in any argument and returns that argument's value. Don't overthink this one!\n",
        "def identity(argument): # changed function name from identify to identity\n",
        "    return argument\n",
        "\n",
        "\n",
        "assert identity(fruits) == fruits, \"Ensure that the function is defined, named properly, and returns the correct value\"\n",
        "assert identity(vegetables) == vegetables, \"Ensure that the function is defined, named properly, and returns the correct value\"\n",
        "assert identity(positive_odd_number) == positive_odd_number, \"Ensure that the function is defined, named properly, and returns the correct value\"\n",
        "assert identity(positive_even_number) == positive_even_number, \"Ensure that the function is defined, named properly, and returns the correct value\"\n",
        "assert identity(negative_odd_number) == negative_odd_number, \"Ensure that the function is defined, named properly, and returns the correct value\"\n",
        "assert identity(negative_even_number) == negative_even_number, \"Ensure that the function is defined, named properly, and returns the correct value\"\n",
        "print(\"Exercise 16 is correct.\")"
      ]
    },
    {
      "cell_type": "code",
      "execution_count": null,
      "metadata": {
        "id": "MDcv31WUnhmv",
        "colab": {
          "base_uri": "https://localhost:8080/"
        },
        "outputId": "7489faf6-62bf-4515-ed98-a588ce43d46c"
      },
      "outputs": [
        {
          "output_type": "stream",
          "name": "stdout",
          "text": [
            "Exercise 17 is correct.\n"
          ]
        }
      ],
      "source": [
        "# Exercise 17\n",
        "# Write a function definition named is_positive_odd that takes in a number and returns True or False if the value is both greater than zero and odd\n",
        "def is_positive_odd(number):\n",
        "    if number > 0 and number % 2 == 1:\n",
        "        return True\n",
        "    else:\n",
        "        return False\n",
        "is_positive_odd(3)\n",
        "is_positive_odd(7)\n",
        "is_positive_odd(12)\n",
        "is_positive_odd(-3)\n",
        "is_positive_odd(-10)\n",
        "\n",
        "assert is_positive_odd(3) == True, \"Double check your syntax and logic\"\n",
        "assert is_positive_odd(positive_odd_number) == True, \"Double check your syntax and logic\"\n",
        "assert is_positive_odd(positive_even_number) == False, \"Double check your syntax and logic\"\n",
        "assert is_positive_odd(negative_odd_number) == False, \"Double check your syntax and logic\"\n",
        "assert is_positive_odd(negative_even_number) == False, \"Double check your syntax and logic\"\n",
        "print(\"Exercise 17 is correct.\")"
      ]
    },
    {
      "cell_type": "code",
      "execution_count": null,
      "metadata": {
        "id": "4LtNi8aPnhmv",
        "colab": {
          "base_uri": "https://localhost:8080/"
        },
        "outputId": "596bfa9d-2b7f-4bb7-d2da-cfdcb2e27a9c"
      },
      "outputs": [
        {
          "output_type": "stream",
          "name": "stdout",
          "text": [
            "Exercise 18 is correct.\n"
          ]
        }
      ],
      "source": [
        "# Exercise 18\n",
        "# Write a function definition named is_positive_even that takes in a number and returns True or False if the value is both greater than zero and even\n",
        "def is_positive_even(number):\n",
        "    if number > 0 and number % 2 == 0:\n",
        "        return True\n",
        "    else:\n",
        "        return False\n",
        "is_positive_even(4)\n",
        "is_positive_even(7)\n",
        "is_positive_even(12)\n",
        "is_positive_even(-3)\n",
        "is_positive_even(-10)\n",
        "\n",
        "assert is_positive_even(4) == True, \"Double check your syntax and logic\"\n",
        "assert is_positive_even(positive_odd_number) == False, \"Double check your syntax and logic\"\n",
        "assert is_positive_even(positive_even_number) == True, \"Double check your syntax and logic\"\n",
        "assert is_positive_even(negative_odd_number) == False, \"Double check your syntax and logic\"\n",
        "assert is_positive_even(negative_even_number) == False, \"Double check your syntax and logic\"\n",
        "print(\"Exercise 18 is correct.\")"
      ]
    },
    {
      "cell_type": "code",
      "execution_count": null,
      "metadata": {
        "id": "gF5SEqcRnhmv",
        "colab": {
          "base_uri": "https://localhost:8080/"
        },
        "outputId": "5cc49740-e1bf-4ae7-ada1-1938a986c9a0"
      },
      "outputs": [
        {
          "output_type": "stream",
          "name": "stdout",
          "text": [
            "Exercise 19 is correct.\n"
          ]
        }
      ],
      "source": [
        "# Exercise 19\n",
        "# Write a function definition named is_negative_odd that takes in a number and returns True or False if the value is both less than zero and odd.\n",
        "def is_negative_odd(number):\n",
        "  if number%2 ==1 and number<0:\n",
        "    return True\n",
        "  else:\n",
        "    return False\n",
        "\n",
        "is_negative_odd(-3)\n",
        "is_negative_odd(-7)\n",
        "is_negative_odd(-12)\n",
        "is_negative_odd(3)\n",
        "is_negative_odd(10)\n",
        "\n",
        "assert is_negative_odd(-3) == True, \"Double check your syntax and logic\"\n",
        "assert is_negative_odd(positive_odd_number) == False, \"Double check your syntax and logic\"\n",
        "assert is_negative_odd(positive_even_number) == False, \"Double check your syntax and logic\"\n",
        "assert is_negative_odd(negative_odd_number) == True, \"Double check your syntax and logic\"\n",
        "assert is_negative_odd(negative_even_number) == False, \"Double check your syntax and logic\"\n",
        "print(\"Exercise 19 is correct.\")\n"
      ]
    },
    {
      "cell_type": "code",
      "execution_count": null,
      "metadata": {
        "id": "UDse2--Onhmv",
        "colab": {
          "base_uri": "https://localhost:8080/"
        },
        "outputId": "63f69c04-7ae3-48bb-f8d7-5edb4099c886"
      },
      "outputs": [
        {
          "output_type": "stream",
          "name": "stdout",
          "text": [
            "Exercise 20 is correct.\n"
          ]
        }
      ],
      "source": [
        "# Exercise 20\n",
        "# Write a function definition named is_negative_even that takes in a number and returns True or False if the value is both less than zero and even.\n",
        "def is_negative_even(number):\n",
        "  if number%2==0 and number<0:\n",
        "       return True\n",
        "  else:\n",
        "       return False\n",
        "\n",
        "is_negative_even(-4)\n",
        "is_negative_even(-7)\n",
        "is_negative_even(-12)\n",
        "is_negative_even(3)\n",
        "is_negative_even(10)\n",
        "assert is_negative_even(-4) == True, \"Double check your syntax and logic\"\n",
        "assert is_negative_even(positive_odd_number) == False, \"Double check your syntax and logic\"\n",
        "assert is_negative_even(positive_even_number) == False, \"Double check your syntax and logic\"\n",
        "assert is_negative_even(negative_odd_number) == False, \"Double check your syntax and logic\"\n",
        "assert is_negative_even(negative_even_number) == True, \"Double check your syntax and logic\"\n",
        "print(\"Exercise 20 is correct.\")"
      ]
    },
    {
      "cell_type": "code",
      "execution_count": null,
      "metadata": {
        "id": "DbkF2ytinhmv",
        "colab": {
          "base_uri": "https://localhost:8080/"
        },
        "outputId": "1297f50b-6229-49e9-86fa-7c1853532a39"
      },
      "outputs": [
        {
          "output_type": "stream",
          "name": "stdout",
          "text": [
            "Exercise 21 is correct.\n"
          ]
        }
      ],
      "source": [
        "# Exercise 21\n",
        "# Write a function definition named half that takes in a number and returns half the provided number.\n",
        "def half(number):\n",
        "   return number/2\n",
        "\n",
        "half(4)\n",
        "half(5)\n",
        "half(positive_odd_number)\n",
        "half(positive_even_number)\n",
        "half(negative_odd_number)\n",
        "half(negative_even_number)\n",
        "assert half(4) == 2\n",
        "assert half(5) == 2.5\n",
        "assert half(positive_odd_number) == positive_odd_number / 2\n",
        "assert half(positive_even_number) == positive_even_number / 2\n",
        "assert half(negative_odd_number) == negative_odd_number / 2\n",
        "assert half(negative_even_number) == negative_even_number / 2\n",
        "print(\"Exercise 21 is correct.\")"
      ]
    },
    {
      "cell_type": "code",
      "execution_count": null,
      "metadata": {
        "id": "-gv7TCqonhmv",
        "colab": {
          "base_uri": "https://localhost:8080/"
        },
        "outputId": "7bf6691e-66df-4179-f39e-7b2d1340cf5f"
      },
      "outputs": [
        {
          "output_type": "stream",
          "name": "stdout",
          "text": [
            "Exercise 22 is correct.\n"
          ]
        }
      ],
      "source": [
        "# Exercise 22\n",
        "# Write a function definition named double that takes in a number and returns double the provided number.\n",
        "def double(number):\n",
        "  return number*2\n",
        "\n",
        "double(4)\n",
        "double(5)\n",
        "double(positive_odd_number)\n",
        "double(positive_even_number)\n",
        "double(negative_odd_number)\n",
        "double(negative_even_number)\n",
        "assert double(4) == 8\n",
        "assert double(5) == 10\n",
        "assert double(positive_odd_number) == positive_odd_number * 2\n",
        "assert double(positive_even_number) == positive_even_number * 2\n",
        "assert double(negative_odd_number) == negative_odd_number * 2\n",
        "assert double(negative_even_number) == negative_even_number * 2\n",
        "print(\"Exercise 22 is correct.\")"
      ]
    },
    {
      "cell_type": "code",
      "execution_count": null,
      "metadata": {
        "id": "epvK8YQ5nhmv",
        "colab": {
          "base_uri": "https://localhost:8080/"
        },
        "outputId": "5d8f2dfe-881e-4ce3-aff8-46dbc2916cef"
      },
      "outputs": [
        {
          "output_type": "stream",
          "name": "stdout",
          "text": [
            "Exercise 23 is correct.\n"
          ]
        }
      ],
      "source": [
        "# Exercise 23\n",
        "# Write a function definition named triple that takes in a number and returns triple the provided number.\n",
        "def triple(number):\n",
        "  return number*3\n",
        "\n",
        "double(4)\n",
        "double(5)\n",
        "double(positive_odd_number)\n",
        "double(positive_even_number)\n",
        "double(negative_odd_number)\n",
        "double(negative_even_number)\n",
        "\n",
        "assert triple(4) == 12\n",
        "assert triple(5) == 15\n",
        "assert triple(positive_odd_number) == positive_odd_number * 3\n",
        "assert triple(positive_even_number) == positive_even_number * 3\n",
        "assert triple(negative_odd_number) == negative_odd_number * 3\n",
        "assert triple(negative_even_number) == negative_even_number * 3\n",
        "print(\"Exercise 23 is correct.\")"
      ]
    },
    {
      "cell_type": "code",
      "execution_count": null,
      "metadata": {
        "id": "L7risryfnhmv",
        "colab": {
          "base_uri": "https://localhost:8080/"
        },
        "outputId": "d6ed2015-dd6f-4b45-aed9-a66c430d0121"
      },
      "outputs": [
        {
          "output_type": "stream",
          "name": "stdout",
          "text": [
            "Exercise 24 is correct.\n"
          ]
        }
      ],
      "source": [
        "# Exercise 24\n",
        "# Write a function definition named reverse_sign that takes in a number and returns the provided number but with the sign reversed.\n",
        "def reverse_sign(number):\n",
        "  return number*-1\n",
        "\n",
        "reverse_sign(4)\n",
        "reverse_sign(5)\n",
        "reverse_sign(positive_odd_number)\n",
        "reverse_sign(positive_even_number)\n",
        "reverse_sign(negative_odd_number)\n",
        "reverse_sign(negative_even_number)\n",
        "\n",
        "assert reverse_sign(4) == -4\n",
        "assert reverse_sign(-5) == 5\n",
        "assert reverse_sign(positive_odd_number) == positive_odd_number * -1\n",
        "assert reverse_sign(positive_even_number) == positive_even_number * -1\n",
        "assert reverse_sign(negative_odd_number) == negative_odd_number * -1\n",
        "assert reverse_sign(negative_even_number) == negative_even_number * -1\n",
        "print(\"Exercise 24 is correct.\")"
      ]
    },
    {
      "cell_type": "code",
      "execution_count": null,
      "metadata": {
        "id": "liuqnBQZnhmv",
        "colab": {
          "base_uri": "https://localhost:8080/"
        },
        "outputId": "565ca052-bcc4-4975-8b22-34328d02dab6"
      },
      "outputs": [
        {
          "output_type": "stream",
          "name": "stdout",
          "text": [
            "Exercise 25 is correct.\n"
          ]
        }
      ],
      "source": [
        "# Exercise 25\n",
        "# Write a function definition named absolute_value that takes in a number and returns the absolute value of the provided number\n",
        "def absolute_value(number):\n",
        "  if number<0:\n",
        "    return number*-1\n",
        "  else:\n",
        "    return number\n",
        "\n",
        "absolute_value(4)\n",
        "absolute_value(-5)\n",
        "absolute_value(positive_odd_number)\n",
        "absolute_value(positive_even_number)\n",
        "absolute_value(negative_odd_number)\n",
        "absolute_value(negative_even_number)\n",
        "\n",
        "assert absolute_value(4) == 4\n",
        "assert absolute_value(-5) == 5\n",
        "assert absolute_value(positive_odd_number) == positive_odd_number\n",
        "assert absolute_value(positive_even_number) == positive_even_number\n",
        "assert absolute_value(negative_odd_number) == negative_odd_number * -1\n",
        "assert absolute_value(negative_even_number) == negative_even_number * -1\n",
        "print(\"Exercise 25 is correct.\")"
      ]
    },
    {
      "cell_type": "code",
      "execution_count": null,
      "metadata": {
        "id": "xLTiuCRcnhmv",
        "colab": {
          "base_uri": "https://localhost:8080/"
        },
        "outputId": "2219dd9e-7742-46b0-cd35-a57ae43d8c7e"
      },
      "outputs": [
        {
          "output_type": "stream",
          "name": "stdout",
          "text": [
            "Exercise 26 is correct.\n"
          ]
        }
      ],
      "source": [
        "# Exercise 26\n",
        "# Write a function definition named is_multiple_of_three that takes in a number and returns True or False if the number is evenly divisible by 3.\n",
        "def is_multiple_of_three(number):\n",
        "  if number%3==0:\n",
        "    return True\n",
        "  else:\n",
        "    return False\n",
        "\n",
        "is_multiple_of_three(3)\n",
        "is_multiple_of_three(15)\n",
        "is_multiple_of_three(9)\n",
        "is_multiple_of_three(4)\n",
        "is_multiple_of_three(10)\n",
        "\n",
        "assert is_multiple_of_three(3) == True\n",
        "assert is_multiple_of_three(15) == True\n",
        "assert is_multiple_of_three(9) == True\n",
        "assert is_multiple_of_three(4) == False\n",
        "assert is_multiple_of_three(10) == False\n",
        "print(\"Exercise 26 is correct.\")"
      ]
    },
    {
      "cell_type": "code",
      "execution_count": null,
      "metadata": {
        "id": "QxajTYoVnhmv",
        "colab": {
          "base_uri": "https://localhost:8080/"
        },
        "outputId": "6c6a210f-2e36-4368-a7da-2c9be0579563"
      },
      "outputs": [
        {
          "output_type": "stream",
          "name": "stdout",
          "text": [
            "Exercise 27 is correct.\n"
          ]
        }
      ],
      "source": [
        "# Exercise 27\n",
        "# Write a function definition named is_multiple_of_five that takes in a number and returns True or False if the number is evenly divisible by 5.\n",
        "def is_multiple_of_five(number):\n",
        "  if number%5==0:\n",
        "    return True\n",
        "  else:\n",
        "    return False\n",
        "is_multiple_of_five(3)\n",
        "is_multiple_of_five(15)\n",
        "is_multiple_of_five(9)\n",
        "is_multiple_of_five(4)\n",
        "is_multiple_of_five(10)\n",
        "\n",
        "assert is_multiple_of_five(3) == False\n",
        "assert is_multiple_of_five(15) == True\n",
        "assert is_multiple_of_five(9) == False\n",
        "assert is_multiple_of_five(4) == False\n",
        "assert is_multiple_of_five(10) == True\n",
        "print(\"Exercise 27 is correct.\")"
      ]
    },
    {
      "cell_type": "code",
      "execution_count": null,
      "metadata": {
        "id": "yDoTL6_Inhmv",
        "colab": {
          "base_uri": "https://localhost:8080/"
        },
        "outputId": "87106f0c-8750-463f-9f43-492b9af6ce17"
      },
      "outputs": [
        {
          "output_type": "stream",
          "name": "stdout",
          "text": [
            "Exercise 28 is correct.\n"
          ]
        }
      ],
      "source": [
        "# Exercise 28\n",
        "# Write a function definition named is_multiple_of_both_three_and_five that takes in a number and returns True or False if the number is evenly divisible by both 3 and 5.\n",
        "def is_multiple_of_both_three_and_five(number):\n",
        "  if number%3==0 and number%5==0:\n",
        "    return True\n",
        "  else:\n",
        "    return False\n",
        "is_multiple_of_both_three_and_five(3)\n",
        "is_multiple_of_both_three_and_five(15)\n",
        "is_multiple_of_both_three_and_five(9)\n",
        "is_multiple_of_both_three_and_five(4)\n",
        "\n",
        "assert is_multiple_of_both_three_and_five(15) == True\n",
        "assert is_multiple_of_both_three_and_five(45) == True\n",
        "assert is_multiple_of_both_three_and_five(3) == False\n",
        "assert is_multiple_of_both_three_and_five(9) == False\n",
        "assert is_multiple_of_both_three_and_five(4) == False\n",
        "print(\"Exercise 28 is correct.\")"
      ]
    },
    {
      "cell_type": "code",
      "execution_count": null,
      "metadata": {
        "id": "v8YyAkaQnhmz",
        "colab": {
          "base_uri": "https://localhost:8080/"
        },
        "outputId": "26ba94b0-dbdc-4927-f3f4-1fda75b87df5"
      },
      "outputs": [
        {
          "output_type": "stream",
          "name": "stdout",
          "text": [
            "Exercise 29 is correct.\n"
          ]
        }
      ],
      "source": [
        "# Exercise 29\n",
        "# Write a function definition named square that takes in a number and returns the number times itself.\n",
        "def square(number):\n",
        "  return number*number\n",
        "\n",
        "square(3)\n",
        "square(2)\n",
        "square(9)\n",
        "square(positive_odd_number)\n",
        "\n",
        "assert square(3) == 9\n",
        "assert square(2) == 4\n",
        "assert square(9) == 81\n",
        "assert square(positive_odd_number) == positive_odd_number * positive_odd_number\n",
        "print(\"Exercise 29 is correct.\")"
      ]
    },
    {
      "cell_type": "code",
      "execution_count": null,
      "metadata": {
        "id": "oibEwRawnhmz",
        "colab": {
          "base_uri": "https://localhost:8080/"
        },
        "outputId": "c4d4af58-06d6-471e-f3c1-4f25cbea9287"
      },
      "outputs": [
        {
          "output_type": "stream",
          "name": "stdout",
          "text": [
            "Exercise 30 is correct.\n"
          ]
        }
      ],
      "source": [
        "# Exercise 30\n",
        "# Write a function definition named add that takes in two numbers and returns the sum.\n",
        "def add(number1,number2):\n",
        "  return number1+number2\n",
        "add(3, 2)\n",
        "add(10, -2)\n",
        "add(5, 7)\n",
        "\n",
        "assert add(3, 2) == 5\n",
        "assert add(10, -2) == 8\n",
        "assert add(5, 7) == 12\n",
        "print(\"Exercise 30 is correct.\")"
      ]
    },
    {
      "cell_type": "code",
      "execution_count": null,
      "metadata": {
        "id": "0V04bywcnhmz",
        "colab": {
          "base_uri": "https://localhost:8080/"
        },
        "outputId": "949f836b-8c8a-4a38-8cda-77fc4a2db42e"
      },
      "outputs": [
        {
          "output_type": "stream",
          "name": "stdout",
          "text": [
            "Exercise 31 is correct.\n"
          ]
        }
      ],
      "source": [
        "# Exercise 31\n",
        "# Write a function definition named cube that takes in a number and returns the number times itself, times itself.\n",
        "def cube(number):\n",
        "  return number*number*number\n",
        "cube(3)\n",
        "cube(2)\n",
        "cube(5)\n",
        "cube(positive_odd_number)\n",
        "\n",
        "assert cube(3) == 27\n",
        "assert cube(2) == 8\n",
        "assert cube(5) == 125\n",
        "assert cube(positive_odd_number) == positive_odd_number * positive_odd_number * positive_odd_number\n",
        "print(\"Exercise 31 is correct.\")"
      ]
    },
    {
      "cell_type": "code",
      "execution_count": null,
      "metadata": {
        "id": "q9c0MRkNnhmz",
        "colab": {
          "base_uri": "https://localhost:8080/"
        },
        "outputId": "2d35a88f-17be-4a60-e5ad-f41337ebcebc"
      },
      "outputs": [
        {
          "output_type": "stream",
          "name": "stdout",
          "text": [
            "Exercise 32 is correct.\n"
          ]
        }
      ],
      "source": [
        "# Exercise 32\n",
        "# Write a function definition named square_root that takes in a number and returns the square root of the provided number\n",
        "def square_root(number):\n",
        "  return number**0.5\n",
        "square_root(3)\n",
        "square_root(2)\n",
        "square_root(5)\n",
        "\n",
        "assert square_root(4) == 2.0\n",
        "assert square_root(64) == 8.0\n",
        "assert square_root(81) == 9.0\n",
        "print(\"Exercise 32 is correct.\")"
      ]
    },
    {
      "cell_type": "code",
      "execution_count": null,
      "metadata": {
        "id": "LHUPbvTfnhmz",
        "colab": {
          "base_uri": "https://localhost:8080/"
        },
        "outputId": "7689e8e1-122f-4c3f-dbe7-9e40d52fd955"
      },
      "outputs": [
        {
          "output_type": "stream",
          "name": "stdout",
          "text": [
            "Exercise 33 is correct.\n"
          ]
        }
      ],
      "source": [
        "# Exercise 33\n",
        "# Write a function definition named subtract that takes in two numbers and returns the first minus the second argument.\n",
        "def subtract(number1,number2):\n",
        "  return number1-number2\n",
        "\n",
        "subtract(8, 6)\n",
        "subtract(27, 4)\n",
        "subtract(12, 2)\n",
        "assert subtract(8, 6) == 2\n",
        "assert subtract(27, 4) == 23\n",
        "assert subtract(12, 2) == 10\n",
        "print(\"Exercise 33 is correct.\")"
      ]
    },
    {
      "cell_type": "code",
      "execution_count": null,
      "metadata": {
        "id": "BE7I5OU6nhmz",
        "colab": {
          "base_uri": "https://localhost:8080/"
        },
        "outputId": "37962f1a-472f-4442-f917-708130a2d5bb"
      },
      "outputs": [
        {
          "output_type": "stream",
          "name": "stdout",
          "text": [
            "Exercise 34 is correct.\n"
          ]
        }
      ],
      "source": [
        "# Exercise 34\n",
        "# Write a function definition named multiply that takes in two numbers and returns the first times the second argument.\n",
        "def multiply(number1,number2):\n",
        "  return number1*number2\n",
        "\n",
        "multiply(2, 1)\n",
        "multiply(3, 5)\n",
        "multiply(5, 2)\n",
        "assert multiply(2, 1) == 2\n",
        "assert multiply(3, 5) == 15\n",
        "assert multiply(5, 2) == 10\n",
        "print(\"Exercise 34 is correct.\")"
      ]
    },
    {
      "cell_type": "code",
      "execution_count": null,
      "metadata": {
        "id": "jZOykgubnhmz",
        "colab": {
          "base_uri": "https://localhost:8080/"
        },
        "outputId": "a611b185-0df8-4d17-cc7f-400e09addfcc"
      },
      "outputs": [
        {
          "output_type": "stream",
          "name": "stdout",
          "text": [
            "Exercise 35 is correct.\n"
          ]
        }
      ],
      "source": [
        "# Exercise 35\n",
        "# Write a function definition named divide that takes in two numbers and returns the first argument divided by the second argument.\n",
        "def divide(number1,number2):\n",
        "  return number1/number2\n",
        "\n",
        "divide(27, 9)\n",
        "divide(15, 3)\n",
        "divide(5, 2)\n",
        "divide(10, 2)\n",
        "assert divide(27, 9) == 3\n",
        "assert divide(15, 3) == 5\n",
        "assert divide(5, 2) == 2.5\n",
        "assert divide(10, 2) == 5\n",
        "print(\"Exercise 35 is correct.\")"
      ]
    },
    {
      "cell_type": "code",
      "execution_count": null,
      "metadata": {
        "id": "sDWcwRHxnhmz",
        "colab": {
          "base_uri": "https://localhost:8080/"
        },
        "outputId": "5cd34bea-a6c7-4124-d288-4fd8059c7d45"
      },
      "outputs": [
        {
          "output_type": "stream",
          "name": "stdout",
          "text": [
            "Exercise 36 is correct.\n"
          ]
        }
      ],
      "source": [
        "# Exercise 36\n",
        "# Write a function definition named quotient that takes in two numbers and returns only the quotient from dividing the first argument by the second argument.\n",
        "def quotient(number1,number2):\n",
        "  return number1//number2\n",
        "\n",
        "quotient(27, 9)\n",
        "quotient(5, 2)\n",
        "quotient(10, 3)\n",
        "assert quotient(27, 9) == 3\n",
        "assert quotient(5, 2) == 2\n",
        "assert quotient(10, 3) == 3\n",
        "print(\"Exercise 36 is correct.\")"
      ]
    },
    {
      "cell_type": "code",
      "execution_count": null,
      "metadata": {
        "id": "tZWwQcyinhmz",
        "colab": {
          "base_uri": "https://localhost:8080/"
        },
        "outputId": "5d2d72bd-1255-47cf-ddcf-a6faebda91e9"
      },
      "outputs": [
        {
          "output_type": "stream",
          "name": "stdout",
          "text": [
            "Exercise 37 is correct.\n"
          ]
        }
      ],
      "source": [
        "# Exercise 37\n",
        "# Write a function definition named remainder that takes in two numbers and returns the remainder of first argument divided by the second argument.\n",
        "def remainder(number1,number2):\n",
        "  return number1%number2\n",
        "\n",
        "remainder(3, 3)\n",
        "remainder(5, 2)\n",
        "remainder(7, 5)\n",
        "\n",
        "assert remainder(3, 3) == 0\n",
        "assert remainder(5, 2) == 1\n",
        "assert remainder(7, 5) == 2\n",
        "print(\"Exercise 37 is correct.\")"
      ]
    },
    {
      "cell_type": "code",
      "execution_count": null,
      "metadata": {
        "id": "mz2C7ENcnhmz",
        "colab": {
          "base_uri": "https://localhost:8080/"
        },
        "outputId": "209a8ea3-f747-4afb-edf3-42374c60f2cf"
      },
      "outputs": [
        {
          "output_type": "stream",
          "name": "stdout",
          "text": [
            "Exercise 38 is correct.\n"
          ]
        }
      ],
      "source": [
        "# Exercise 38\n",
        "# Write a function definition named sum_of_squares that takes in two numbers, squares each number, then returns the sum of both squares.\n",
        "def sum_of_squares(number1,number2):\n",
        "  return number1**2+number2**2\n",
        "sum_of_squares(3, 2)\n",
        "sum_of_squares(5, 2)\n",
        "sum_of_squares(2, 4)\n",
        "assert sum_of_squares(3, 2) == 13\n",
        "assert sum_of_squares(5, 2) == 29\n",
        "assert sum_of_squares(2, 4) == 20\n",
        "print(\"Exercise 38 is correct.\")"
      ]
    },
    {
      "cell_type": "code",
      "execution_count": null,
      "metadata": {
        "id": "mfdaawUgnhmz",
        "colab": {
          "base_uri": "https://localhost:8080/"
        },
        "outputId": "a815ff93-79a5-49a1-cf80-0c6a8efc5f20"
      },
      "outputs": [
        {
          "output_type": "stream",
          "name": "stdout",
          "text": [
            "Exercise 39 is correct.\n"
          ]
        }
      ],
      "source": [
        "# Exercise 39\n",
        "# Write a function definition named times_two_plus_three that takes in a number, multiplies it by two, adds 3 and returns the result.\n",
        "def times_two_plus_three(number):\n",
        "  return (number*2)+3\n",
        "times_two_plus_three(0)\n",
        "times_two_plus_three(1)\n",
        "times_two_plus_three(2)\n",
        "times_two_plus_three(3)\n",
        "times_two_plus_three(5)\n",
        "assert times_two_plus_three(0) == 3\n",
        "assert times_two_plus_three(1) == 5\n",
        "assert times_two_plus_three(2) == 7\n",
        "assert times_two_plus_three(3) == 9\n",
        "assert times_two_plus_three(5) == 13\n",
        "print(\"Exercise 39 is correct.\")"
      ]
    },
    {
      "cell_type": "code",
      "execution_count": null,
      "metadata": {
        "id": "R4IfCTYhnhmz",
        "colab": {
          "base_uri": "https://localhost:8080/"
        },
        "outputId": "a87bd9d7-a639-42de-8e6a-f089a8460d6b"
      },
      "outputs": [
        {
          "output_type": "stream",
          "name": "stdout",
          "text": [
            "Exercise 40 is correct.\n"
          ]
        }
      ],
      "source": [
        "# Exercise 40\n",
        "# Write a function definition named area_of_rectangle that takes in two numbers and returns the product.\n",
        "def area_of_rectangle(number1,number2):\n",
        "  return number1*number2\n",
        "area_of_rectangle(1, 3)\n",
        "area_of_rectangle(5, 2)\n",
        "area_of_rectangle(2, 7)\n",
        "area_of_rectangle(5.3, 10.3)\n",
        "assert area_of_rectangle(1, 3) == 3\n",
        "assert area_of_rectangle(5, 2) == 10\n",
        "assert area_of_rectangle(2, 7) == 14\n",
        "assert area_of_rectangle(5.3, 10.3) == 54.59\n",
        "print(\"Exercise 40 is correct.\")"
      ]
    },
    {
      "cell_type": "code",
      "execution_count": null,
      "metadata": {
        "id": "YHnGTwjdnhmz",
        "colab": {
          "base_uri": "https://localhost:8080/"
        },
        "outputId": "62b7be7a-8da3-4aa9-f7dc-09ca5581b46b"
      },
      "outputs": [
        {
          "output_type": "stream",
          "name": "stdout",
          "text": [
            "Exercise 41 is correct.\n"
          ]
        }
      ],
      "source": [
        "import math\n",
        "# Exercise 41\n",
        "# Write a function definition named area_of_circle that takes in a number representing a circle's radius and returns the area of the circl\n",
        "def area_of_circle(number):\n",
        "  return math.pi*number**2\n",
        "area_of_circle(3)\n",
        "area_of_circle(5)\n",
        "area_of_circle(7)\n",
        "assert area_of_circle(3) == 28.274333882308138\n",
        "assert area_of_circle(5) == 78.53981633974483\n",
        "assert area_of_circle(7) == 153.93804002589985\n",
        "print(\"Exercise 41 is correct.\")"
      ]
    },
    {
      "cell_type": "code",
      "execution_count": null,
      "metadata": {
        "id": "ygO8cLkVnhmz",
        "colab": {
          "base_uri": "https://localhost:8080/"
        },
        "outputId": "eea07147-add2-45a5-c8dd-0bbaa21973ff"
      },
      "outputs": [
        {
          "output_type": "stream",
          "name": "stdout",
          "text": [
            "Exercise 42 is correct.\n"
          ]
        }
      ],
      "source": [
        "import math\n",
        "# Exercise 42\n",
        "# Write a function definition named circumference that takes in a number representing a circle's radius and returns the circumference.\n",
        "def circumference(number):\n",
        "  return 2*math.pi*number\n",
        "circumference(3)\n",
        "circumference(5)\n",
        "circumference(7)\n",
        "assert circumference(3) == 18.84955592153876\n",
        "assert circumference(5) == 31.41592653589793\n",
        "assert circumference(7) == 43.982297150257104\n",
        "print(\"Exercise 42 is correct.\")"
      ]
    },
    {
      "cell_type": "markdown",
      "metadata": {
        "id": "MRXIaeyFnhmz"
      },
      "source": [
        "## Functions working with strings\n",
        "If you need some guidance working with the next few problems, recommend reading through [this example code](https://gist.github.com/ryanorsinger/f758599c886549e7615ec43488ae514c)"
      ]
    },
    {
      "cell_type": "code",
      "execution_count": null,
      "metadata": {
        "id": "p9HuBjaQnhm0",
        "colab": {
          "base_uri": "https://localhost:8080/"
        },
        "outputId": "34f4675b-e792-491c-cd29-9fb8780ced95"
      },
      "outputs": [
        {
          "output_type": "stream",
          "name": "stdout",
          "text": [
            "Exercise 43 is correct.\n"
          ]
        }
      ],
      "source": [
        "# Exercise 43\n",
        "# Write a function definition named is_vowel that takes in value and returns True if the value is a, e, i, o, u in upper or lower case.\n",
        "\n",
        "def is_vowel(value):\n",
        "  if len(value)==1 and value.lower() in \"aeiou\":\n",
        "    return True\n",
        "  else:\n",
        "    return False\n",
        "is_vowel(\"a\")\n",
        "is_vowel(\"e\")\n",
        "is_vowel(\"i\")\n",
        "is_vowel(\"o\")\n",
        "is_vowel(\"u\")\n",
        "is_vowel(\"A\")\n",
        "is_vowel(\"E\")\n",
        "is_vowel(\"I\")\n",
        "is_vowel(\"O\")\n",
        "is_vowel(\"U\")\n",
        "is_vowel(\"banana\")\n",
        "is_vowel(\"Q\")\n",
        "is_vowel(\"y\")\n",
        "is_vowel(\"aei\")\n",
        "is_vowel(\"iou\")\n",
        "assert is_vowel(\"a\") == True\n",
        "assert is_vowel(\"e\") == True\n",
        "assert is_vowel(\"i\") == True\n",
        "assert is_vowel(\"o\") == True\n",
        "assert is_vowel(\"u\") == True\n",
        "assert is_vowel(\"A\") == True\n",
        "assert is_vowel(\"E\") == True\n",
        "assert is_vowel(\"I\") == True\n",
        "assert is_vowel(\"O\") == True\n",
        "assert is_vowel(\"U\") == True\n",
        "assert is_vowel(\"banana\") == False\n",
        "assert is_vowel(\"Q\") == False\n",
        "assert is_vowel(\"y\") == False\n",
        "assert is_vowel(\"aei\") ==False\n",
        "assert is_vowel(\"iou\") ==False\n",
        "print(\"Exercise 43 is correct.\")"
      ]
    },
    {
      "cell_type": "code",
      "execution_count": null,
      "metadata": {
        "id": "9SrjBN3cnhm0"
      },
      "outputs": [],
      "source": [
        "# Exercise 44\n",
        "# Write a function definition named has_vowels that takes in value and returns True if the string contains any vowels.\n",
        "\n",
        "assert has_vowels(\"banana\") == True\n",
        "assert has_vowels(\"ubuntu\") == True\n",
        "assert has_vowels(\"QQQQ\") == False\n",
        "assert has_vowels(\"wyrd\") == False\n",
        "print(\"Exercise 44 is correct.\")"
      ]
    },
    {
      "cell_type": "code",
      "execution_count": null,
      "metadata": {
        "id": "9m-hv_Y2nhm0"
      },
      "outputs": [],
      "source": [
        "# Exercise 45\n",
        "# Write a function definition named count_vowels that takes in value and returns the count of the nubmer of vowels in a sequence.\n",
        "\n",
        "assert count_vowels(\"banana\") == 3\n",
        "assert count_vowels(\"ubuntu\") == 3\n",
        "assert count_vowels(\"mango\") == 2\n",
        "assert count_vowels(\"QQQQ\") == 0\n",
        "assert count_vowels(\"wyrd\") == 0\n",
        "print(\"Exercise 45 is correct.\")"
      ]
    },
    {
      "cell_type": "code",
      "execution_count": null,
      "metadata": {
        "id": "JYnTmq_2nhm0"
      },
      "outputs": [],
      "source": [
        "# Exercise 46\n",
        "# Write a function definition named remove_vowels that takes in string and returns the string without any vowels\n",
        "\n",
        "assert remove_vowels(\"banana\") == \"bnn\"\n",
        "assert remove_vowels(\"ubuntu\") == \"bnt\"\n",
        "assert remove_vowels(\"mango\") == \"mng\"\n",
        "assert remove_vowels(\"QQQQ\") == \"QQQQ\"\n",
        "print(\"Exercise 46 is correct.\")"
      ]
    },
    {
      "cell_type": "code",
      "execution_count": null,
      "metadata": {
        "id": "h3FpCQ1dnhm0"
      },
      "outputs": [],
      "source": [
        "# Exercise 47\n",
        "# Write a function definition named starts_with_vowel that takes in string and True if the string starts with a vowel\n",
        "\n",
        "assert starts_with_vowel(\"ubuntu\") == True\n",
        "assert starts_with_vowel(\"banana\") == False\n",
        "assert starts_with_vowel(\"mango\") == False\n",
        "print(\"Exercise 47 is correct.\")"
      ]
    },
    {
      "cell_type": "code",
      "execution_count": null,
      "metadata": {
        "id": "ecokC41Lnhm0"
      },
      "outputs": [],
      "source": [
        "# Exercise 48\n",
        "# Write a function definition named ends_with_vowel that takes in string and True if the string ends with a vowel\n",
        "\n",
        "assert ends_with_vowel(\"ubuntu\") == True\n",
        "assert ends_with_vowel(\"banana\") == True\n",
        "assert ends_with_vowel(\"mango\") == True\n",
        "assert ends_with_vowel(\"spinach\") == False\n",
        "print(\"Exercise 48 is correct.\")"
      ]
    },
    {
      "cell_type": "code",
      "execution_count": null,
      "metadata": {
        "id": "9BVGZTgPnhm0"
      },
      "outputs": [],
      "source": [
        "# Exercise 49\n",
        "# Write a function definition named starts_and_ends_with_vowel that takes in string and returns True if the string starts and ends with a vowel\n",
        "\n",
        "assert starts_and_ends_with_vowel(\"ubuntu\") == True\n",
        "assert starts_and_ends_with_vowel(\"banana\") == False\n",
        "assert starts_and_ends_with_vowel(\"mango\") == False\n",
        "print(\"Exercise 49 is correct.\")"
      ]
    },
    {
      "cell_type": "markdown",
      "metadata": {
        "id": "GEOssJ7cnhm0"
      },
      "source": [
        "## Accessing List Elements"
      ]
    },
    {
      "cell_type": "code",
      "execution_count": null,
      "metadata": {
        "id": "ZMUBKlN0nhm0"
      },
      "outputs": [],
      "source": [
        "# Exercise 50\n",
        "# Write a function definition named first that takes in sequence and returns the first value of that sequence.\n",
        "\n",
        "assert first(\"ubuntu\") == \"u\"\n",
        "assert first([1, 2, 3]) == 1\n",
        "assert first([\"python\", \"is\", \"awesome\"]) == \"python\"\n",
        "print(\"Exercise 50 is correct.\")"
      ]
    },
    {
      "cell_type": "code",
      "execution_count": null,
      "metadata": {
        "id": "CGbWYOvKnhm0"
      },
      "outputs": [],
      "source": [
        "# Exercise 51\n",
        "# Write a function definition named second that takes in sequence and returns the second value of that sequence.\n",
        "\n",
        "assert second(\"ubuntu\") == \"b\"\n",
        "assert second([1, 2, 3]) == 2\n",
        "assert second([\"python\", \"is\", \"awesome\"]) == \"is\"\n",
        "print(\"Exercise 51 is correct.\")"
      ]
    },
    {
      "cell_type": "code",
      "execution_count": null,
      "metadata": {
        "id": "UyqTGfH_nhm0"
      },
      "outputs": [],
      "source": [
        "# Exercise 52\n",
        "# Write a function definition named third that takes in sequence and returns the third value of that sequence.\n",
        "\n",
        "assert third(\"ubuntu\") == \"u\"\n",
        "assert third([1, 2, 3]) == 3\n",
        "assert third([\"python\", \"is\", \"awesome\"]) == \"awesome\"\n",
        "print(\"Exercise 52 is correct.\")"
      ]
    },
    {
      "cell_type": "code",
      "execution_count": null,
      "metadata": {
        "id": "YMOe2qNVnhm0"
      },
      "outputs": [],
      "source": [
        "# Exercise 53\n",
        "# Write a function definition named forth that takes in sequence and returns the forth value of that sequence.\n",
        "\n",
        "assert forth(\"ubuntu\") == \"n\"\n",
        "assert forth([1, 2, 3, 4]) == 4\n",
        "assert forth([\"python\", \"is\", \"awesome\", \"right?\"]) == \"right?\"\n",
        "print(\"Exercise 53 is correct.\")"
      ]
    },
    {
      "cell_type": "code",
      "execution_count": null,
      "metadata": {
        "id": "uTdT2sM-nhm0"
      },
      "outputs": [],
      "source": [
        "# Exercise 54\n",
        "# Write a function definition named last that takes in sequence and returns the last value of that sequence.\n",
        "\n",
        "assert last(\"ubuntu\") == \"u\"\n",
        "assert last([1, 2, 3, 4]) == 4\n",
        "assert last([\"python\", \"is\", \"awesome\"]) == \"awesome\"\n",
        "assert last([\"kiwi\", \"mango\", \"guava\"]) == \"guava\"\n",
        "print(\"Exercise 54 is correct.\")"
      ]
    },
    {
      "cell_type": "code",
      "execution_count": null,
      "metadata": {
        "id": "4wpor8tknhm0"
      },
      "outputs": [],
      "source": [
        "# Exercise 55\n",
        "# Write a function definition named second_to_last that takes in sequence and returns the second to last value of that sequence.\n",
        "\n",
        "assert second_to_last(\"ubuntu\") == \"t\"\n",
        "assert second_to_last([1, 2, 3, 4]) == 3\n",
        "assert second_to_last([\"python\", \"is\", \"awesome\"]) == \"is\"\n",
        "assert second_to_last([\"kiwi\", \"mango\", \"guava\"]) == \"mango\"\n",
        "print(\"Exercise 55 is correct.\")"
      ]
    },
    {
      "cell_type": "code",
      "execution_count": null,
      "metadata": {
        "id": "4WDeTfvOnhm1"
      },
      "outputs": [],
      "source": [
        "# Exercise 56\n",
        "# Write a function definition named third_to_last that takes in sequence and returns the third to last value of that sequence.\n",
        "\n",
        "assert third_to_last(\"ubuntu\") == \"n\"\n",
        "assert third_to_last([1, 2, 3, 4]) == 2\n",
        "assert third_to_last([\"python\", \"is\", \"awesome\"]) == \"python\"\n",
        "assert third_to_last([\"strawberry\", \"kiwi\", \"mango\", \"guava\"]) == \"kiwi\"\n",
        "print(\"Exercise 56 is correct.\")"
      ]
    },
    {
      "cell_type": "code",
      "execution_count": null,
      "metadata": {
        "id": "x2IQudT5nhm1"
      },
      "outputs": [],
      "source": [
        "# Exercise 57\n",
        "# Write a function definition named first_and_second that takes in sequence and returns the first and second value of that sequence as a list\n",
        "\n",
        "assert first_and_second([1, 2, 3, 4]) == [1, 2]\n",
        "assert first_and_second([\"python\", \"is\", \"awesome\"]) == [\"python\", \"is\"]\n",
        "assert first_and_second([\"strawberry\", \"kiwi\", \"mango\", \"guava\"]) == [\"strawberry\", \"kiwi\"]\n",
        "print(\"Exercise 57 is correct.\")"
      ]
    },
    {
      "cell_type": "code",
      "execution_count": null,
      "metadata": {
        "id": "YihAwsCEnhm1"
      },
      "outputs": [],
      "source": [
        "# Exercise 58\n",
        "# Write a function definition named first_and_last that takes in sequence and returns the first and last value of that sequence as a list\n",
        "\n",
        "assert first_and_last([1, 2, 3, 4]) == [1, 4]\n",
        "assert first_and_last([\"python\", \"is\", \"awesome\"]) == [\"python\", \"awesome\"]\n",
        "assert first_and_last([\"strawberry\", \"kiwi\", \"mango\", \"guava\"]) == [\"strawberry\", \"guava\"]\n",
        "print(\"Exercise 58 is correct.\")"
      ]
    },
    {
      "cell_type": "code",
      "execution_count": null,
      "metadata": {
        "id": "ydEJcS-fnhm1"
      },
      "outputs": [],
      "source": [
        "# Exercise 59\n",
        "# Write a function definition named first_to_last that takes in sequence and returns the sequence with the first value moved to the end of the sequence.\n",
        "\n",
        "assert first_to_last([1, 2, 3, 4]) == [2, 3, 4, 1]\n",
        "assert first_to_last([\"python\", \"is\", \"awesome\"]) == [\"is\", \"awesome\", \"python\"]\n",
        "assert first_to_last([\"strawberry\", \"kiwi\", \"mango\", \"guava\"]) == [\"kiwi\", \"mango\", \"guava\", \"strawberry\"]\n",
        "print(\"Exercise 59 is correct.\")"
      ]
    },
    {
      "cell_type": "markdown",
      "metadata": {
        "id": "isQyIELVnhm1"
      },
      "source": [
        "## Functions to describe data"
      ]
    },
    {
      "cell_type": "code",
      "execution_count": null,
      "metadata": {
        "id": "lJQPqrE7nhm1"
      },
      "outputs": [],
      "source": [
        "# Exercise 60\n",
        "# Write a function definition named sum_all that takes in sequence of numbers and returns all the numbers added together.\n",
        "\n",
        "assert sum_all([1, 2, 3, 4]) == 10\n",
        "assert sum_all([3, 3, 3]) == 9\n",
        "assert sum_all([0, 5, 6]) == 11\n",
        "print(\"Exercise 60 is correct.\")"
      ]
    },
    {
      "cell_type": "code",
      "execution_count": null,
      "metadata": {
        "id": "WRTngG6Cnhm1"
      },
      "outputs": [],
      "source": [
        "# Exercise 61\n",
        "# Write a function definition named mean that takes in sequence of numbers and returns the average value\n",
        "\n",
        "assert mean([1, 2, 3, 4]) == 2.5\n",
        "assert mean([3, 3, 3]) == 3\n",
        "assert mean([1, 5, 6]) == 4\n",
        "print(\"Exercise 61 is correct.\")"
      ]
    },
    {
      "cell_type": "code",
      "execution_count": null,
      "metadata": {
        "id": "O2hgl1F2nhm1"
      },
      "outputs": [],
      "source": [
        "# Exercise 62\n",
        "# Write a function definition named median that takes in sequence of numbers and returns the average value\n",
        "\n",
        "assert median([1, 2, 3, 4, 5]) == 3.0\n",
        "assert median([1, 2, 3]) == 2.0\n",
        "assert median([1, 5, 6]) == 5.0\n",
        "assert median([1, 2, 5, 6]) == 3.5\n",
        "print(\"Exercise 62 is correct.\")"
      ]
    },
    {
      "cell_type": "code",
      "execution_count": null,
      "metadata": {
        "id": "tFakxZs7nhm1"
      },
      "outputs": [],
      "source": [
        "# Exercise 63\n",
        "# Write a function definition named mode that takes in sequence of numbers and returns the most commonly occuring value\n",
        "\n",
        "assert mode([1, 2, 2, 3, 4]) == 2\n",
        "assert mode([1, 1, 2, 3]) == 1\n",
        "assert mode([2, 2, 3, 3, 3]) == 3\n",
        "print(\"Exercise 63 is correct.\")"
      ]
    },
    {
      "cell_type": "code",
      "execution_count": null,
      "metadata": {
        "id": "xPPBL91bnhm1"
      },
      "outputs": [],
      "source": [
        "# Exercise 64\n",
        "# Write a function definition named product_of_all that takes in sequence of numbers and returns the product of multiplying all the numbers together\n",
        "\n",
        "assert product_of_all([1, 2, 3]) == 6\n",
        "assert product_of_all([3, 4, 5]) == 60\n",
        "assert product_of_all([2, 2, 3, 0]) == 0\n",
        "print(\"Exercise 64 is correct.\")"
      ]
    },
    {
      "cell_type": "markdown",
      "metadata": {
        "id": "bzOAVnlKnhm1"
      },
      "source": [
        "## Applying functions to lists"
      ]
    },
    {
      "cell_type": "code",
      "execution_count": null,
      "metadata": {
        "id": "VdBWukh5nhm1"
      },
      "outputs": [],
      "source": [
        "# Exercise 65\n",
        "# Write a function definition named get_highest_number that takes in sequence of numbers and returns the largest number.\n",
        "\n",
        "assert get_highest_number([1, 2, 3]) == 3\n",
        "assert get_highest_number([-5, -4, -3, -2, -1, 1, 2, 3, 4, 5]) == 5\n",
        "assert get_highest_number([-5, -3, 1]) == 1\n",
        "print(\"Exercise 65 is correct.\")"
      ]
    },
    {
      "cell_type": "code",
      "execution_count": null,
      "metadata": {
        "id": "yTBlGI8Inhm1"
      },
      "outputs": [],
      "source": [
        "# Exercise 66\n",
        "# Write a function definition named get_smallest_number that takes in sequence of numbers and returns the smallest number.\n",
        "\n",
        "assert get_smallest_number([1, 3, 2]) == 1\n",
        "assert get_smallest_number([5, -5, -4, -3, -2, -1, 1, 2, 3, 4]) == -5\n",
        "assert get_smallest_number([-4, -3, 1, -10]) == -10\n",
        "print(\"Exercise 66 is correct.\")"
      ]
    },
    {
      "cell_type": "code",
      "execution_count": null,
      "metadata": {
        "id": "peqzIatvnhm1"
      },
      "outputs": [],
      "source": [
        "# Exercise 67\n",
        "# Write a function definition named only_odd_numbers that takes in sequence of numbers and returns the odd numbers in a list.\n",
        "\n",
        "assert only_odd_numbers([1, 2, 3]) == [1, 3]\n",
        "assert only_odd_numbers([-5, -4, -3, -2, -1, 1, 2, 3, 4, 5]) == [-5, -3, -1, 1, 3, 5]\n",
        "assert only_odd_numbers([-4, -3, 1]) == [-3, 1]\n",
        "assert only_odd_numbers([2, 2, 2, 2, 2]) == []\n",
        "print(\"Exercise 67 is correct.\")"
      ]
    },
    {
      "cell_type": "code",
      "execution_count": null,
      "metadata": {
        "id": "CWQqqv4jnhm1"
      },
      "outputs": [],
      "source": [
        "# Exercise 68\n",
        "# Write a function definition named only_even_numbers that takes in sequence of numbers and returns the even numbers in a list.\n",
        "\n",
        "assert only_even_numbers([1, 2, 3]) == [2]\n",
        "assert only_even_numbers([-5, -4, -3, -2, -1, 1, 2, 3, 4, 5]) == [-4, -2, 2, 4]\n",
        "assert only_even_numbers([-4, -3, 1]) == [-4]\n",
        "assert only_even_numbers([1, 1, 1, 1, 1, 1]) == []\n",
        "print(\"Exercise 68 is correct.\")"
      ]
    },
    {
      "cell_type": "code",
      "execution_count": null,
      "metadata": {
        "id": "uIRB3e0knhm1"
      },
      "outputs": [],
      "source": [
        "# Exercise 69\n",
        "# Write a function definition named only_positive_numbers that takes in sequence of numbers and returns the positive numbers in a list.\n",
        "\n",
        "assert only_positive_numbers([1, 2, 3]) == [1, 2, 3]\n",
        "assert only_positive_numbers([-5, -4, -3, -2, -1, 1, 2, 3, 4, 5]) == [1, 2, 3, 4, 5]\n",
        "assert only_positive_numbers([-4, -3, 1]) == [1]\n",
        "print(\"Exercise 69 is correct.\")"
      ]
    },
    {
      "cell_type": "code",
      "execution_count": null,
      "metadata": {
        "id": "r3HUsXcWnhm1"
      },
      "outputs": [],
      "source": [
        "# Exercise 70\n",
        "# Write a function definition named only_negative_numbers that takes in sequence of numbers and returns the negative numbers in a list.\n",
        "\n",
        "assert only_negative_numbers([1, 2, 3]) == []\n",
        "assert only_negative_numbers([-5, -4, -3, -2, -1, 1, 2, 3, 4, 5]) == [-5, -4, -3, -2, -1]\n",
        "assert only_negative_numbers([-4, -3, 1]) == [-4, -3]\n",
        "print(\"Exercise 70 is correct.\")"
      ]
    },
    {
      "cell_type": "code",
      "execution_count": null,
      "metadata": {
        "id": "jAvCIiNLnhm1"
      },
      "outputs": [],
      "source": [
        "# Exercise 71\n",
        "# Write a function definition named has_evens that takes in sequence of numbers and returns True if there are any even numbers in the sequence\n",
        "\n",
        "assert has_evens([1, 2, 3]) == True\n",
        "assert has_evens([2, 5, 6]) == True\n",
        "assert has_evens([3, 3, 3]) == False\n",
        "assert has_evens([]) == False\n",
        "print(\"Exercise 71 is correct.\")"
      ]
    },
    {
      "cell_type": "code",
      "execution_count": null,
      "metadata": {
        "id": "n94FJsnInhm2"
      },
      "outputs": [],
      "source": [
        "# Exercise 72\n",
        "# Write a function definition named count_evens that takes in sequence of numbers and returns the number of even numbers\n",
        "\n",
        "assert count_evens([1, 2, 3]) == 1\n",
        "assert count_evens([2, 5, 6]) == 2\n",
        "assert count_evens([3, 3, 3]) == 0\n",
        "assert count_evens([5, 6, 7, 8] ) == 2\n",
        "print(\"Exercise 72 is correct.\")"
      ]
    },
    {
      "cell_type": "code",
      "execution_count": null,
      "metadata": {
        "id": "G13ucfTUnhm2"
      },
      "outputs": [],
      "source": [
        "# Exercise 73\n",
        "# Write a function definition named has_odds that takes in sequence of numbers and returns True if there are any odd numbers in the sequence\n",
        "\n",
        "assert has_odds([1, 2, 3]) == True\n",
        "assert has_odds([2, 5, 6]) == True\n",
        "assert has_odds([3, 3, 3]) == True\n",
        "assert has_odds([2, 4, 6]) == False\n",
        "print(\"Exercise 73 is correct.\")"
      ]
    },
    {
      "cell_type": "code",
      "execution_count": null,
      "metadata": {
        "id": "y0jCLHwbnhm2"
      },
      "outputs": [],
      "source": [
        "# Exercise 74\n",
        "# Write a function definition named count_odds that takes in sequence of numbers and returns True if there are any odd numbers in the sequence\n",
        "\n",
        "assert count_odds([1, 2, 3]) == 2\n",
        "assert count_odds([2, 5, 6]) == 1\n",
        "assert count_odds([3, 3, 3]) == 3\n",
        "assert count_odds([2, 4, 6]) == 0\n",
        "print(\"Exercise 74 is correct.\")"
      ]
    },
    {
      "cell_type": "code",
      "execution_count": null,
      "metadata": {
        "id": "h1rpbqk1nhm2"
      },
      "outputs": [],
      "source": [
        "# Exercise 75\n",
        "# Write a function definition named count_negatives that takes in sequence of numbers and returns a count of the number of negative numbers\n",
        "\n",
        "assert count_negatives([1, -2, 3]) == 1\n",
        "assert count_negatives([2, -5, -6]) == 2\n",
        "assert count_negatives([3, 3, 3]) == 0\n",
        "print(\"Exercise 75 is correct.\")"
      ]
    },
    {
      "cell_type": "code",
      "execution_count": null,
      "metadata": {
        "id": "qlnfjn4Qnhm2"
      },
      "outputs": [],
      "source": [
        "# Exercise 76\n",
        "# Write a function definition named count_positives that takes in sequence of numbers and returns a count of the number of positive numbers\n",
        "\n",
        "assert count_positives([1, -2, 3]) == 2\n",
        "assert count_positives([2, -5, -6]) == 1\n",
        "assert count_positives([3, 3, 3]) == 3\n",
        "assert count_positives([-2, -1, -5]) == 0\n",
        "print(\"Exercise 76 is correct.\")"
      ]
    },
    {
      "cell_type": "code",
      "execution_count": null,
      "metadata": {
        "id": "ZJvEcj9snhm2"
      },
      "outputs": [],
      "source": [
        "# Exercise 77\n",
        "# Write a function definition named only_positive_evens that takes in sequence of numbers and returns a list containing all the positive evens from the sequence\n",
        "\n",
        "assert only_positive_evens([1, -2, 3]) == []\n",
        "assert only_positive_evens([2, -5, -6]) == [2]\n",
        "assert only_positive_evens([3, 3, 4, 6]) == [4, 6]\n",
        "assert only_positive_evens([2, 3, 4, -1, -5]) == [2, 4]\n",
        "print(\"Exercise 77 is correct.\")"
      ]
    },
    {
      "cell_type": "code",
      "execution_count": null,
      "metadata": {
        "id": "6TWekwv6nhm2"
      },
      "outputs": [],
      "source": [
        "# Exercise 78\n",
        "# Write a function definition named only_positive_odds that takes in sequence of numbers and returns a list containing all the positive odd numbers from the sequence\n",
        "\n",
        "assert only_positive_odds([1, -2, 3]) == [1, 3]\n",
        "assert only_positive_odds([2, -5, -6]) == []\n",
        "assert only_positive_odds([3, 3, 4, 6]) == [3, 3]\n",
        "assert only_positive_odds([2, 3, 4, -1, -5]) == [3]\n",
        "print(\"Exercise 78 is correct.\")"
      ]
    },
    {
      "cell_type": "code",
      "execution_count": null,
      "metadata": {
        "id": "AtXSgA8Hnhm2"
      },
      "outputs": [],
      "source": [
        "# Exercise 79\n",
        "# Write a function definition named only_negative_evens that takes in sequence of numbers and returns a list containing all the negative even numbers from the sequence\n",
        "\n",
        "assert only_negative_evens([1, -2, 3]) == [-2]\n",
        "assert only_negative_evens([2, -5, -6]) == [-6]\n",
        "assert only_negative_evens([3, 3, 4, 6]) == []\n",
        "assert only_negative_evens([-2, 3, 4, -1, -4]) == [-2, -4]\n",
        "print(\"Exercise 79 is correct.\")"
      ]
    },
    {
      "cell_type": "code",
      "execution_count": null,
      "metadata": {
        "id": "SAg3A3ENnhm2"
      },
      "outputs": [],
      "source": [
        "# Exercise 80\n",
        "# Write a function definition named only_negative_odds that takes in sequence of numbers and returns a list containing all the negative odd numbers from the sequence\n",
        "\n",
        "assert only_negative_odds([1, -2, 3]) == []\n",
        "assert only_negative_odds([2, -5, -6]) == [-5]\n",
        "assert only_negative_odds([3, 3, 4, 6]) == []\n",
        "assert only_negative_odds([2, -3, 4, -1, -4]) == [-3, -1]\n",
        "print(\"Exercise 80 is correct.\")"
      ]
    },
    {
      "cell_type": "code",
      "execution_count": null,
      "metadata": {
        "id": "v9Dnwqvknhm2"
      },
      "outputs": [],
      "source": [
        "# Exercise 81\n",
        "# Write a function definition named shortest_string that takes in a list of strings and returns the shortest string in the list.\n",
        "\n",
        "assert shortest_string([\"kiwi\", \"mango\", \"strawberry\"]) == \"kiwi\"\n",
        "assert shortest_string([\"hello\", \"everybody\"]) == \"hello\"\n",
        "assert shortest_string([\"mary\", \"had\", \"a\", \"little\", \"lamb\"]) == \"a\"\n",
        "print(\"Exercise 81 is correct.\")"
      ]
    },
    {
      "cell_type": "code",
      "execution_count": null,
      "metadata": {
        "id": "RbnOtAEAnhm2"
      },
      "outputs": [],
      "source": [
        "# Exercise 82\n",
        "# Write a function definition named longest_string that takes in sequence of strings and returns the longest string in the list.\n",
        "\n",
        "assert longest_string([\"kiwi\", \"mango\", \"strawberry\"]) == \"strawberry\"\n",
        "assert longest_string([\"hello\", \"everybody\"]) == \"everybody\"\n",
        "assert longest_string([\"mary\", \"had\", \"a\", \"little\", \"lamb\"]) == \"little\"\n",
        "print(\"Exercise 82 is correct.\")"
      ]
    },
    {
      "cell_type": "markdown",
      "metadata": {
        "id": "R95spAsKnhm2"
      },
      "source": [
        "## Working with sets\n",
        "**Hint** Take a look at the `set` function in Python, the `set` data type, and built-in `set` methods."
      ]
    },
    {
      "cell_type": "code",
      "execution_count": null,
      "metadata": {
        "id": "mRIoyn6Enhm2"
      },
      "outputs": [],
      "source": [
        "# Example set function usage\n",
        "print(set(\"kiwi\"))\n",
        "print(set([1, 2, 2, 3, 3, 3, 4, 4, 4, 4]))"
      ]
    },
    {
      "cell_type": "code",
      "execution_count": null,
      "metadata": {
        "id": "nt7-xWjVnhm2"
      },
      "outputs": [],
      "source": [
        "# Exercise 83\n",
        "# Write a function definition named get_unique_values that takes in a list and returns a set with only the unique values from that list.\n",
        "\n",
        "assert get_unique_values([\"ant\", \"ant\", \"mosquito\", \"mosquito\", \"ladybug\"]) == {\"ant\", \"mosquito\", \"ladybug\"}\n",
        "assert get_unique_values([\"b\", \"a\", \"n\", \"a\", \"n\", \"a\", \"s\"]) == {\"b\", \"a\", \"n\", \"s\"}\n",
        "assert get_unique_values([\"mary\", \"had\", \"a\", \"little\", \"lamb\", \"little\", \"lamb\", \"little\", \"lamb\"]) == {\"mary\", \"had\", \"a\", \"little\", \"lamb\"}\n",
        "print(\"Exercise 83 is correct.\")"
      ]
    },
    {
      "cell_type": "code",
      "execution_count": null,
      "metadata": {
        "id": "weFSDwBxnhm2"
      },
      "outputs": [],
      "source": [
        "# Exercise 84\n",
        "# Write a function definition named get_unique_values_from_two_lists that takes two lists and returns a single set with only the unique values\n",
        "\n",
        "assert get_unique_values_from_two_lists([5, 1, 2, 3], [3, 4, 5, 5]) == {1, 2, 3, 4, 5}\n",
        "assert get_unique_values_from_two_lists([1, 1], [2, 2, 3]) == {1, 2, 3}\n",
        "assert get_unique_values_from_two_lists([\"tomato\", \"mango\", \"kiwi\"], [\"eggplant\", \"tomato\", \"broccoli\"]) == {\"tomato\", \"mango\", \"kiwi\", \"eggplant\", \"broccoli\"}\n",
        "print(\"Exercise 84 is correct.\")"
      ]
    },
    {
      "cell_type": "code",
      "execution_count": null,
      "metadata": {
        "id": "OHgEazaSnhm2"
      },
      "outputs": [],
      "source": [
        "# Exercise 85\n",
        "# Write a function definition named get_values_in_common that takes two lists and returns a single set with the values that each list has in common\n",
        "\n",
        "assert get_values_in_common([5, 1, 2, 3], [3, 4, 5, 5]) == {3, 5}\n",
        "assert get_values_in_common([1, 2], [2, 2, 3]) == {2}\n",
        "assert get_values_in_common([\"tomato\", \"mango\", \"kiwi\"], [\"eggplant\", \"tomato\", \"broccoli\"]) == {\"tomato\"}\n",
        "print(\"Exercise 85 is correct.\")"
      ]
    },
    {
      "cell_type": "code",
      "execution_count": null,
      "metadata": {
        "id": "ebLa0e6Enhm2"
      },
      "outputs": [],
      "source": [
        "# Exercise 86\n",
        "# Write a function definition named get_values_not_in_common that takes two lists and returns a single set with the values that each list does not have in common\n",
        "\n",
        "assert get_values_not_in_common([5, 1, 2, 3], [3, 4, 5, 5]) == {1, 2, 4}\n",
        "assert get_values_not_in_common([1, 1], [2, 2, 3]) == {1, 2, 3}\n",
        "assert get_values_not_in_common([\"tomato\", \"mango\", \"kiwi\"], [\"eggplant\", \"tomato\", \"broccoli\"]) == {\"mango\", \"kiwi\", \"eggplant\", \"broccoli\"}\n",
        "print(\"Exercise 86 is correct.\")"
      ]
    },
    {
      "cell_type": "markdown",
      "metadata": {
        "id": "aPhI4Eclnhm2"
      },
      "source": [
        "## Working with Dictionaries\n"
      ]
    },
    {
      "cell_type": "code",
      "execution_count": null,
      "metadata": {
        "id": "cxN23s4znhm3"
      },
      "outputs": [],
      "source": [
        "# Run this cell in order to have these two dictionary variables defined.\n",
        "tukey_paper = {\n",
        "    \"title\": \"The Future of Data Analysis\",\n",
        "    \"author\": \"John W. Tukey\",\n",
        "    \"link\": \"https://projecteuclid.org/euclid.aoms/1177704711\",\n",
        "    \"year_published\": 1962\n",
        "}\n",
        "\n",
        "thomas_paper = {\n",
        "    \"title\": \"A mathematical model of glutathione metabolism\",\n",
        "    \"author\": \"Rachel Thomas\",\n",
        "    \"link\": \"https://www.ncbi.nlm.nih.gov/pubmed/18442411\",\n",
        "    \"year_published\": 2008\n",
        "}"
      ]
    },
    {
      "cell_type": "code",
      "execution_count": null,
      "metadata": {
        "id": "0ktXo_xWnhm3"
      },
      "outputs": [],
      "source": [
        "# Exercise 87\n",
        "# Write a function named get_paper_title that takes in a dictionary and returns the title property\n",
        "\n",
        "assert get_paper_title(tukey_paper) == \"The Future of Data Analysis\"\n",
        "assert get_paper_title(thomas_paper) == \"A mathematical model of glutathione metabolism\"\n",
        "print(\"Exercise 87 is correct.\")"
      ]
    },
    {
      "cell_type": "code",
      "execution_count": null,
      "metadata": {
        "id": "r1YYiglqnhm3"
      },
      "outputs": [],
      "source": [
        "# Exercise 88\n",
        "# Write a function named get_year_published that takes in a dictionary and returns the value behind the \"year_published\" key.\n",
        "\n",
        "assert get_year_published(tukey_paper) == 1962\n",
        "assert get_year_published(thomas_paper) == 2008\n",
        "print(\"Exercise 88 is correct.\")"
      ]
    },
    {
      "cell_type": "code",
      "execution_count": null,
      "metadata": {
        "id": "WeNB95Mxnhm3"
      },
      "outputs": [],
      "source": [
        "# Run this code to create data for the next two questions\n",
        "book = {\n",
        "    \"title\": \"Genetic Algorithms and Machine Learning for Programmers\",\n",
        "    \"price\": 36.99,\n",
        "    \"author\": \"Frances Buontempo\"\n",
        "}"
      ]
    },
    {
      "cell_type": "code",
      "execution_count": null,
      "metadata": {
        "id": "uoNx6Iwpnhm3"
      },
      "outputs": [],
      "source": [
        "# Exercise 89\n",
        "# Write a function named get_price that takes in a dictionary and returns the price\n",
        "\n",
        "assert get_price(book) == 36.99\n",
        "print(\"Exercise 89 is complete.\")"
      ]
    },
    {
      "cell_type": "code",
      "execution_count": null,
      "metadata": {
        "id": "2MiWFHPrnhm3"
      },
      "outputs": [],
      "source": [
        "# Exercise 90\n",
        "# Write a function named get_book_author that takes in a dictionary (the above declared book variable) and returns the author's name\n",
        "\n",
        "\n",
        "assert get_book_author(book) == \"Frances Buontempo\"\n",
        "print(\"Exercise 90 is complete.\")"
      ]
    },
    {
      "cell_type": "markdown",
      "metadata": {
        "id": "Llwh2cXnnhm3"
      },
      "source": [
        "## Working with Lists of Dictionaries\n",
        "**Hint** If you need an example of lists of dictionaries, see\n",
        "- [Getting Started With a List of Dictionaries](https://colab.research.google.com/github/ryanorsinger/list_of_dictionaries/blob/main/getting_started.ipynb)\n",
        "- [Practice Exercises for List of Dictionaries](https://colab.research.google.com/github/ryanorsinger/list_of_dictionaries/blob/main/exercises.ipynb)\n",
        "- [Companion Video](https://www.youtube.com/watch?v=pPdEahZgv8U)\n"
      ]
    },
    {
      "cell_type": "code",
      "execution_count": null,
      "metadata": {
        "id": "_U3JfAglnhm3"
      },
      "outputs": [],
      "source": [
        "# Run this cell in order to have some setup data for the next exercises\n",
        "books = [\n",
        "    {\n",
        "        \"title\": \"Genetic Algorithms and Machine Learning for Programmers\",\n",
        "        \"price\": 36.99,\n",
        "        \"author\": \"Frances Buontempo\"\n",
        "    },\n",
        "    {\n",
        "        \"title\": \"The Visual Display of Quantitative Information\",\n",
        "        \"price\": 38.00,\n",
        "        \"author\": \"Edward Tufte\"\n",
        "    },\n",
        "    {\n",
        "        \"title\": \"Practical Object-Oriented Design\",\n",
        "        \"author\": \"Sandi Metz\",\n",
        "        \"price\": 30.47\n",
        "    },\n",
        "    {\n",
        "        \"title\": \"Weapons of Math Destruction\",\n",
        "        \"author\": \"Cathy O'Neil\",\n",
        "        \"price\": 17.44\n",
        "    }\n",
        "]"
      ]
    },
    {
      "cell_type": "code",
      "execution_count": null,
      "metadata": {
        "id": "U7z-MWK9nhm3"
      },
      "outputs": [],
      "source": [
        "# Exercise 91\n",
        "# Write a function named get_number_of_books that takes in a list of objects and returns the number of dictionaries in that list.\n",
        "\n",
        "assert get_number_of_books(books) == 4\n",
        "print(\"Exercise 91 is complete.\")"
      ]
    },
    {
      "cell_type": "code",
      "execution_count": null,
      "metadata": {
        "id": "GZKUPO95nhm3"
      },
      "outputs": [],
      "source": [
        "# Exercise 92\n",
        "# Write a function named total_of_book_prices that takes in a list of dictionaries and returns the sum total of all the book prices added together\n",
        "\n",
        "assert total_of_book_prices(books) == 122.9\n",
        "print(\"Exercise 92 is complete.\")"
      ]
    },
    {
      "cell_type": "code",
      "execution_count": null,
      "metadata": {
        "id": "PsLvxnUBnhm3"
      },
      "outputs": [],
      "source": [
        "# Exercise 93\n",
        "# Write a function named get_average_book_price that takes in a list of dictionaries and returns the average book price.\n",
        "\n",
        "assert get_average_book_price(books) == 30.725\n",
        "print(\"Exercise 93 is complete.\")"
      ]
    },
    {
      "cell_type": "code",
      "execution_count": null,
      "metadata": {
        "id": "yraJgU21nhm3"
      },
      "outputs": [],
      "source": [
        "# Exercise 94\n",
        "# Write a function called highest_price_book that takes in the above defined list of dictionaries \"books\" and returns the dictionary containing the title, price, and author of the book with the highest priced book.\n",
        "# Hint: Much like sometimes start functions with a variable set to zero, you may want to create a dictionary with the price set to zero to compare to each dictionary's price in the list\n",
        "\n",
        "assert highest_price_book(books) == {\n",
        "    \"title\": \"The Visual Display of Quantitative Information\",\n",
        "    \"price\": 38.00,\n",
        "    \"author\": \"Edward Tufte\"\n",
        "}\n",
        "\n",
        "print(\"Exercise 94 is complete\")"
      ]
    },
    {
      "cell_type": "code",
      "execution_count": null,
      "metadata": {
        "id": "uyl1WqRenhm3"
      },
      "outputs": [],
      "source": [
        "# Exercise 95\n",
        "# Write a function called lowest_priced_book that takes in the above defined list of dictionaries \"books\" and returns the dictionary containing the title, price, and author of the book with the lowest priced book.\n",
        "# Hint: Much like sometimes start functions with a variable set to zero or float('inf'), you may want to create a dictionary with the price set to float('inf') to compare to each dictionary in the list\n",
        "\n",
        "\n",
        "assert lowest_price_book(books) == {\n",
        "    \"title\": \"Weapons of Math Destruction\",\n",
        "    \"author\": \"Cathy O'Neil\",\n",
        "    \"price\": 17.44\n",
        "}\n",
        "print(\"Exercise 95 is complete.\")"
      ]
    },
    {
      "cell_type": "code",
      "execution_count": null,
      "metadata": {
        "id": "P2New4K6nhm3"
      },
      "outputs": [],
      "source": [
        "shopping_cart = {\n",
        "    \"tax\": .08,\n",
        "    \"items\": [\n",
        "        {\n",
        "            \"title\": \"orange juice\",\n",
        "            \"price\": 3.99,\n",
        "            \"quantity\": 1\n",
        "        },\n",
        "        {\n",
        "            \"title\": \"rice\",\n",
        "            \"price\": 1.99,\n",
        "            \"quantity\": 3\n",
        "        },\n",
        "        {\n",
        "            \"title\": \"beans\",\n",
        "            \"price\": 0.99,\n",
        "            \"quantity\": 3\n",
        "        },\n",
        "        {\n",
        "            \"title\": \"chili sauce\",\n",
        "            \"price\": 2.99,\n",
        "            \"quantity\": 1\n",
        "        },\n",
        "        {\n",
        "            \"title\": \"chocolate\",\n",
        "            \"price\": 0.75,\n",
        "            \"quantity\": 9\n",
        "        }\n",
        "    ]\n",
        "}"
      ]
    },
    {
      "cell_type": "code",
      "execution_count": null,
      "metadata": {
        "id": "NeA845vLnhm3"
      },
      "outputs": [],
      "source": [
        "# Exercise 96\n",
        "# Write a function named get_tax_rate that takes in the above shopping cart as input and returns the tax rate.\n",
        "# Hint: How do you access a key's value on a dictionary? The tax rate is one key of the entire shopping_cart dictionary.\n",
        "\n",
        "assert get_tax_rate(shopping_cart) == .08\n",
        "print(\"Exercise 96 is complete\")"
      ]
    },
    {
      "cell_type": "code",
      "execution_count": null,
      "metadata": {
        "id": "l_Hahushnhm3"
      },
      "outputs": [],
      "source": [
        "# Exercise 97\n",
        "# Write a function named number_of_item_types that takes in the shopping cart as input and returns the number of unique item types in the shopping cart.\n",
        "# We're not yet using the quantity of each item, but rather focusing on determining how many different types of items are in the cart.\n",
        "\n",
        "assert number_of_item_types(shopping_cart) == 5\n",
        "print(\"Exercise 97 is complete.\")"
      ]
    },
    {
      "cell_type": "code",
      "execution_count": null,
      "metadata": {
        "id": "ee0PApPInhm3"
      },
      "outputs": [],
      "source": [
        "# Exercise 98\n",
        "# Write a function named total_number_of_items that takes in the shopping cart as input and returns the total number all item quantities.\n",
        "# This should return the sum of all of the quantities from each item type\n",
        "\n",
        "assert total_number_of_items(shopping_cart) == 17\n",
        "print(\"Exercise 98 is complete.\")"
      ]
    },
    {
      "cell_type": "code",
      "execution_count": null,
      "metadata": {
        "id": "WErH66I_nhm3"
      },
      "outputs": [],
      "source": [
        "# Exercise 99\n",
        "# Write a function named get_average_item_price that takes in the shopping cart as an input and returns the average of all the item prices.\n",
        "# Hint - This should determine the total price divided by the number of types of items. This does not account for each item type's quantity.\n",
        "assert get_average_item_price(shopping_cart) == 2.1420000000000003\n",
        "print(\"Exercise 99 is complete.\")"
      ]
    },
    {
      "cell_type": "code",
      "execution_count": null,
      "metadata": {
        "id": "XxlqmpTQnhm3"
      },
      "outputs": [],
      "source": [
        "# Exercise 100\n",
        "# Write a function named get_average_spent_per_item that takes in the shopping cart and returns the average of summing each item's quanties times that item's price.\n",
        "# Hint: You may need to set an initial total price and total total quantity to zero, then sum up and divide that total price by the total quantity\n",
        "\n",
        "assert get_average_spent_per_item(shopping_cart) == 1.333529411764706\n",
        "print(\"Exercise 100 is complete.\")"
      ]
    },
    {
      "cell_type": "code",
      "execution_count": null,
      "metadata": {
        "id": "9KqUJI9vnhm4"
      },
      "outputs": [],
      "source": [
        "# Exercise 101\n",
        "# Write a function named most_spent_on_item that takes in the shopping cart as input and returns the dictionary associated with the item that has the highest price*quantity.\n",
        "# Be sure to do this as programmatically as possible.\n",
        "# Hint: Similarly to how we sometimes begin a function with setting a variable to zero, we need a starting place:\n",
        "# Hint: Consider creating a variable that is a dictionary with the keys \"price\" and \"quantity\" both set to 0. You can then compare each item's price and quantity total to the one from \"most\"\n",
        "\n",
        "assert most_spent_on_item(shopping_cart) == {\n",
        "    \"title\": \"chocolate\",\n",
        "    \"price\": 0.75,\n",
        "    \"quantity\": 9\n",
        "}\n",
        "print(\"Exercise 101 is complete.\")"
      ]
    },
    {
      "cell_type": "markdown",
      "metadata": {
        "id": "ewyLZYgdnhm4"
      },
      "source": [
        "Created by [Ryan Orsinger](https://ryanorsinger.com)\n",
        "\n",
        "Source code on [https://github.com/ryanorsinger/101-exercises](https://github.com/ryanorsinger/101-exercises)"
      ]
    }
  ],
  "metadata": {
    "kernelspec": {
      "display_name": "Python 3",
      "language": "python",
      "name": "python3"
    },
    "language_info": {
      "codemirror_mode": {
        "name": "ipython",
        "version": 3
      },
      "file_extension": ".py",
      "mimetype": "text/x-python",
      "name": "python",
      "nbconvert_exporter": "python",
      "pygments_lexer": "ipython3",
      "version": "3.8.8"
    },
    "colab": {
      "provenance": [],
      "include_colab_link": true
    }
  },
  "nbformat": 4,
  "nbformat_minor": 0
}